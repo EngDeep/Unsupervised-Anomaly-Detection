{
 "cells": [
  {
   "cell_type": "markdown",
   "metadata": {},
   "source": [
    "# IForest \n",
    "### ISOLATION FOREST ALGORITHM\n",
    "\n",
    "Isolation Forest is an unsupervised anomaly detection algorithm which, unlike other algorithms, focus on isolating anomalous data points instead of identifying normal instances. \n",
    "\n",
    "#### DATASET : AIRQUALITY DATA\n",
    "#### AUTHOR: AVINASH BAGUL"
   ]
  },
  {
   "cell_type": "markdown",
   "metadata": {},
   "source": [
    "IMPORTING ESSENTIAL LIBRARIES"
   ]
  },
  {
   "cell_type": "code",
   "execution_count": 1,
   "metadata": {},
   "outputs": [],
   "source": [
    "import pycaret\n",
    "import pandas as pd\n",
    "import numpy as np"
   ]
  },
  {
   "cell_type": "markdown",
   "metadata": {},
   "source": [
    "READING THE DATASET"
   ]
  },
  {
   "cell_type": "code",
   "execution_count": 2,
   "metadata": {},
   "outputs": [
    {
     "data": {
      "text/html": [
       "<div>\n",
       "<style scoped>\n",
       "    .dataframe tbody tr th:only-of-type {\n",
       "        vertical-align: middle;\n",
       "    }\n",
       "\n",
       "    .dataframe tbody tr th {\n",
       "        vertical-align: top;\n",
       "    }\n",
       "\n",
       "    .dataframe thead th {\n",
       "        text-align: right;\n",
       "    }\n",
       "</style>\n",
       "<table border=\"1\" class=\"dataframe\">\n",
       "  <thead>\n",
       "    <tr style=\"text-align: right;\">\n",
       "      <th></th>\n",
       "      <th>boxName</th>\n",
       "      <th>PM 2.5</th>\n",
       "      <th>temp</th>\n",
       "      <th>pressure</th>\n",
       "      <th>humidity</th>\n",
       "      <th>wind_speed</th>\n",
       "      <th>Time of Day</th>\n",
       "      <th>Peak/NoPeak</th>\n",
       "      <th>Day</th>\n",
       "      <th>Week Day</th>\n",
       "      <th>Weather</th>\n",
       "      <th>Weather Description</th>\n",
       "      <th>label</th>\n",
       "    </tr>\n",
       "    <tr>\n",
       "      <th>Time_stamp</th>\n",
       "      <th></th>\n",
       "      <th></th>\n",
       "      <th></th>\n",
       "      <th></th>\n",
       "      <th></th>\n",
       "      <th></th>\n",
       "      <th></th>\n",
       "      <th></th>\n",
       "      <th></th>\n",
       "      <th></th>\n",
       "      <th></th>\n",
       "      <th></th>\n",
       "      <th></th>\n",
       "    </tr>\n",
       "  </thead>\n",
       "  <tbody>\n",
       "    <tr>\n",
       "      <th>2018-12-31 18:30:53</th>\n",
       "      <td>Bernem</td>\n",
       "      <td>139.63</td>\n",
       "      <td>7.71</td>\n",
       "      <td>1032</td>\n",
       "      <td>100</td>\n",
       "      <td>3.09</td>\n",
       "      <td>Evening_Hours</td>\n",
       "      <td>Peak</td>\n",
       "      <td>Monday</td>\n",
       "      <td>Workday</td>\n",
       "      <td>Clouds</td>\n",
       "      <td>broken clouds</td>\n",
       "      <td>abnormal</td>\n",
       "    </tr>\n",
       "    <tr>\n",
       "      <th>2018-12-31 18:35:01</th>\n",
       "      <td>Bernem</td>\n",
       "      <td>136.43</td>\n",
       "      <td>7.71</td>\n",
       "      <td>1032</td>\n",
       "      <td>100</td>\n",
       "      <td>3.09</td>\n",
       "      <td>Evening_Hours</td>\n",
       "      <td>Peak</td>\n",
       "      <td>Monday</td>\n",
       "      <td>Workday</td>\n",
       "      <td>Clouds</td>\n",
       "      <td>broken clouds</td>\n",
       "      <td>abnormal</td>\n",
       "    </tr>\n",
       "    <tr>\n",
       "      <th>2018-12-31 18:39:09</th>\n",
       "      <td>Bernem</td>\n",
       "      <td>112.67</td>\n",
       "      <td>7.71</td>\n",
       "      <td>1032</td>\n",
       "      <td>100</td>\n",
       "      <td>3.09</td>\n",
       "      <td>Evening_Hours</td>\n",
       "      <td>Peak</td>\n",
       "      <td>Monday</td>\n",
       "      <td>Workday</td>\n",
       "      <td>Clouds</td>\n",
       "      <td>broken clouds</td>\n",
       "      <td>abnormal</td>\n",
       "    </tr>\n",
       "    <tr>\n",
       "      <th>2018-12-31 18:43:17</th>\n",
       "      <td>Bernem</td>\n",
       "      <td>46.87</td>\n",
       "      <td>7.71</td>\n",
       "      <td>1032</td>\n",
       "      <td>100</td>\n",
       "      <td>3.09</td>\n",
       "      <td>Evening_Hours</td>\n",
       "      <td>Peak</td>\n",
       "      <td>Monday</td>\n",
       "      <td>Workday</td>\n",
       "      <td>Clouds</td>\n",
       "      <td>broken clouds</td>\n",
       "      <td>abnormal</td>\n",
       "    </tr>\n",
       "    <tr>\n",
       "      <th>2018-12-31 18:47:24</th>\n",
       "      <td>Bernem</td>\n",
       "      <td>38.30</td>\n",
       "      <td>7.71</td>\n",
       "      <td>1032</td>\n",
       "      <td>100</td>\n",
       "      <td>3.09</td>\n",
       "      <td>Evening_Hours</td>\n",
       "      <td>Peak</td>\n",
       "      <td>Monday</td>\n",
       "      <td>Workday</td>\n",
       "      <td>Clouds</td>\n",
       "      <td>broken clouds</td>\n",
       "      <td>abnormal</td>\n",
       "    </tr>\n",
       "    <tr>\n",
       "      <th>...</th>\n",
       "      <td>...</td>\n",
       "      <td>...</td>\n",
       "      <td>...</td>\n",
       "      <td>...</td>\n",
       "      <td>...</td>\n",
       "      <td>...</td>\n",
       "      <td>...</td>\n",
       "      <td>...</td>\n",
       "      <td>...</td>\n",
       "      <td>...</td>\n",
       "      <td>...</td>\n",
       "      <td>...</td>\n",
       "      <td>...</td>\n",
       "    </tr>\n",
       "    <tr>\n",
       "      <th>2020-02-28 18:11:12</th>\n",
       "      <td>Bernem</td>\n",
       "      <td>3.93</td>\n",
       "      <td>6.00</td>\n",
       "      <td>1013</td>\n",
       "      <td>56</td>\n",
       "      <td>3.60</td>\n",
       "      <td>Evening_Hours</td>\n",
       "      <td>Peak</td>\n",
       "      <td>Friday</td>\n",
       "      <td>Workday</td>\n",
       "      <td>Clear</td>\n",
       "      <td>sky is clear</td>\n",
       "      <td>normal</td>\n",
       "    </tr>\n",
       "    <tr>\n",
       "      <th>2020-02-28 18:14:31</th>\n",
       "      <td>Bernem</td>\n",
       "      <td>4.33</td>\n",
       "      <td>6.00</td>\n",
       "      <td>1013</td>\n",
       "      <td>56</td>\n",
       "      <td>3.60</td>\n",
       "      <td>Evening_Hours</td>\n",
       "      <td>Peak</td>\n",
       "      <td>Friday</td>\n",
       "      <td>Workday</td>\n",
       "      <td>Clear</td>\n",
       "      <td>sky is clear</td>\n",
       "      <td>normal</td>\n",
       "    </tr>\n",
       "    <tr>\n",
       "      <th>2020-02-28 18:21:01</th>\n",
       "      <td>Bernem</td>\n",
       "      <td>3.93</td>\n",
       "      <td>6.00</td>\n",
       "      <td>1013</td>\n",
       "      <td>56</td>\n",
       "      <td>3.60</td>\n",
       "      <td>Evening_Hours</td>\n",
       "      <td>Peak</td>\n",
       "      <td>Friday</td>\n",
       "      <td>Workday</td>\n",
       "      <td>Clear</td>\n",
       "      <td>sky is clear</td>\n",
       "      <td>normal</td>\n",
       "    </tr>\n",
       "    <tr>\n",
       "      <th>2020-02-28 18:24:01</th>\n",
       "      <td>Bernem</td>\n",
       "      <td>4.10</td>\n",
       "      <td>6.00</td>\n",
       "      <td>1013</td>\n",
       "      <td>56</td>\n",
       "      <td>3.60</td>\n",
       "      <td>Evening_Hours</td>\n",
       "      <td>Peak</td>\n",
       "      <td>Friday</td>\n",
       "      <td>Workday</td>\n",
       "      <td>Clear</td>\n",
       "      <td>sky is clear</td>\n",
       "      <td>normal</td>\n",
       "    </tr>\n",
       "    <tr>\n",
       "      <th>2020-02-28 18:27:11</th>\n",
       "      <td>Bernem</td>\n",
       "      <td>4.40</td>\n",
       "      <td>6.00</td>\n",
       "      <td>1013</td>\n",
       "      <td>56</td>\n",
       "      <td>3.60</td>\n",
       "      <td>Evening_Hours</td>\n",
       "      <td>Peak</td>\n",
       "      <td>Friday</td>\n",
       "      <td>Workday</td>\n",
       "      <td>Clear</td>\n",
       "      <td>sky is clear</td>\n",
       "      <td>normal</td>\n",
       "    </tr>\n",
       "  </tbody>\n",
       "</table>\n",
       "<p>162173 rows × 13 columns</p>\n",
       "</div>"
      ],
      "text/plain": [
       "                    boxName  PM 2.5  temp  pressure  humidity  wind_speed  \\\n",
       "Time_stamp                                                                  \n",
       "2018-12-31 18:30:53  Bernem  139.63  7.71      1032       100        3.09   \n",
       "2018-12-31 18:35:01  Bernem  136.43  7.71      1032       100        3.09   \n",
       "2018-12-31 18:39:09  Bernem  112.67  7.71      1032       100        3.09   \n",
       "2018-12-31 18:43:17  Bernem   46.87  7.71      1032       100        3.09   \n",
       "2018-12-31 18:47:24  Bernem   38.30  7.71      1032       100        3.09   \n",
       "...                     ...     ...   ...       ...       ...         ...   \n",
       "2020-02-28 18:11:12  Bernem    3.93  6.00      1013        56        3.60   \n",
       "2020-02-28 18:14:31  Bernem    4.33  6.00      1013        56        3.60   \n",
       "2020-02-28 18:21:01  Bernem    3.93  6.00      1013        56        3.60   \n",
       "2020-02-28 18:24:01  Bernem    4.10  6.00      1013        56        3.60   \n",
       "2020-02-28 18:27:11  Bernem    4.40  6.00      1013        56        3.60   \n",
       "\n",
       "                       Time of Day Peak/NoPeak     Day Week Day Weather  \\\n",
       "Time_stamp                                                                \n",
       "2018-12-31 18:30:53  Evening_Hours        Peak  Monday  Workday  Clouds   \n",
       "2018-12-31 18:35:01  Evening_Hours        Peak  Monday  Workday  Clouds   \n",
       "2018-12-31 18:39:09  Evening_Hours        Peak  Monday  Workday  Clouds   \n",
       "2018-12-31 18:43:17  Evening_Hours        Peak  Monday  Workday  Clouds   \n",
       "2018-12-31 18:47:24  Evening_Hours        Peak  Monday  Workday  Clouds   \n",
       "...                            ...         ...     ...      ...     ...   \n",
       "2020-02-28 18:11:12  Evening_Hours        Peak  Friday  Workday   Clear   \n",
       "2020-02-28 18:14:31  Evening_Hours        Peak  Friday  Workday   Clear   \n",
       "2020-02-28 18:21:01  Evening_Hours        Peak  Friday  Workday   Clear   \n",
       "2020-02-28 18:24:01  Evening_Hours        Peak  Friday  Workday   Clear   \n",
       "2020-02-28 18:27:11  Evening_Hours        Peak  Friday  Workday   Clear   \n",
       "\n",
       "                    Weather Description     label  \n",
       "Time_stamp                                         \n",
       "2018-12-31 18:30:53       broken clouds  abnormal  \n",
       "2018-12-31 18:35:01       broken clouds  abnormal  \n",
       "2018-12-31 18:39:09       broken clouds  abnormal  \n",
       "2018-12-31 18:43:17       broken clouds  abnormal  \n",
       "2018-12-31 18:47:24       broken clouds  abnormal  \n",
       "...                                 ...       ...  \n",
       "2020-02-28 18:11:12        sky is clear    normal  \n",
       "2020-02-28 18:14:31        sky is clear    normal  \n",
       "2020-02-28 18:21:01        sky is clear    normal  \n",
       "2020-02-28 18:24:01        sky is clear    normal  \n",
       "2020-02-28 18:27:11        sky is clear    normal  \n",
       "\n",
       "[162173 rows x 13 columns]"
      ]
     },
     "execution_count": 2,
     "metadata": {},
     "output_type": "execute_result"
    }
   ],
   "source": [
    "df1 = pd.read_csv('iqr_benchmark.csv')\n",
    "df = df1[df1['boxName']=='Bernem']\n",
    "df = df.set_index('Time_stamp')\n",
    "df"
   ]
  },
  {
   "cell_type": "code",
   "execution_count": 3,
   "metadata": {},
   "outputs": [
    {
     "data": {
      "text/plain": [
       "boxName                   1\n",
       "PM 2.5                 2480\n",
       "temp                   3067\n",
       "pressure                 71\n",
       "humidity                 87\n",
       "wind_speed               84\n",
       "Time of Day               4\n",
       "Peak/NoPeak               2\n",
       "Day                       7\n",
       "Week Day                  2\n",
       "Weather                  23\n",
       "Weather Description      68\n",
       "label                     2\n",
       "dtype: int64"
      ]
     },
     "execution_count": 3,
     "metadata": {},
     "output_type": "execute_result"
    }
   ],
   "source": [
    "df.nunique()"
   ]
  },
  {
   "cell_type": "code",
   "execution_count": 4,
   "metadata": {},
   "outputs": [],
   "source": [
    "df = df.drop(df.iloc[:,0:1], axis = 1)"
   ]
  },
  {
   "cell_type": "markdown",
   "metadata": {},
   "source": [
    "DATAFRAME"
   ]
  },
  {
   "cell_type": "code",
   "execution_count": 5,
   "metadata": {},
   "outputs": [
    {
     "data": {
      "text/html": [
       "<div>\n",
       "<style scoped>\n",
       "    .dataframe tbody tr th:only-of-type {\n",
       "        vertical-align: middle;\n",
       "    }\n",
       "\n",
       "    .dataframe tbody tr th {\n",
       "        vertical-align: top;\n",
       "    }\n",
       "\n",
       "    .dataframe thead th {\n",
       "        text-align: right;\n",
       "    }\n",
       "</style>\n",
       "<table border=\"1\" class=\"dataframe\">\n",
       "  <thead>\n",
       "    <tr style=\"text-align: right;\">\n",
       "      <th></th>\n",
       "      <th>PM 2.5</th>\n",
       "      <th>temp</th>\n",
       "      <th>pressure</th>\n",
       "      <th>humidity</th>\n",
       "      <th>wind_speed</th>\n",
       "      <th>Time of Day</th>\n",
       "      <th>Peak/NoPeak</th>\n",
       "      <th>Day</th>\n",
       "      <th>Week Day</th>\n",
       "      <th>Weather</th>\n",
       "      <th>Weather Description</th>\n",
       "      <th>label</th>\n",
       "    </tr>\n",
       "    <tr>\n",
       "      <th>Time_stamp</th>\n",
       "      <th></th>\n",
       "      <th></th>\n",
       "      <th></th>\n",
       "      <th></th>\n",
       "      <th></th>\n",
       "      <th></th>\n",
       "      <th></th>\n",
       "      <th></th>\n",
       "      <th></th>\n",
       "      <th></th>\n",
       "      <th></th>\n",
       "      <th></th>\n",
       "    </tr>\n",
       "  </thead>\n",
       "  <tbody>\n",
       "    <tr>\n",
       "      <th>2018-12-31 18:30:53</th>\n",
       "      <td>139.63</td>\n",
       "      <td>7.71</td>\n",
       "      <td>1032</td>\n",
       "      <td>100</td>\n",
       "      <td>3.09</td>\n",
       "      <td>Evening_Hours</td>\n",
       "      <td>Peak</td>\n",
       "      <td>Monday</td>\n",
       "      <td>Workday</td>\n",
       "      <td>Clouds</td>\n",
       "      <td>broken clouds</td>\n",
       "      <td>abnormal</td>\n",
       "    </tr>\n",
       "    <tr>\n",
       "      <th>2018-12-31 18:35:01</th>\n",
       "      <td>136.43</td>\n",
       "      <td>7.71</td>\n",
       "      <td>1032</td>\n",
       "      <td>100</td>\n",
       "      <td>3.09</td>\n",
       "      <td>Evening_Hours</td>\n",
       "      <td>Peak</td>\n",
       "      <td>Monday</td>\n",
       "      <td>Workday</td>\n",
       "      <td>Clouds</td>\n",
       "      <td>broken clouds</td>\n",
       "      <td>abnormal</td>\n",
       "    </tr>\n",
       "    <tr>\n",
       "      <th>2018-12-31 18:39:09</th>\n",
       "      <td>112.67</td>\n",
       "      <td>7.71</td>\n",
       "      <td>1032</td>\n",
       "      <td>100</td>\n",
       "      <td>3.09</td>\n",
       "      <td>Evening_Hours</td>\n",
       "      <td>Peak</td>\n",
       "      <td>Monday</td>\n",
       "      <td>Workday</td>\n",
       "      <td>Clouds</td>\n",
       "      <td>broken clouds</td>\n",
       "      <td>abnormal</td>\n",
       "    </tr>\n",
       "    <tr>\n",
       "      <th>2018-12-31 18:43:17</th>\n",
       "      <td>46.87</td>\n",
       "      <td>7.71</td>\n",
       "      <td>1032</td>\n",
       "      <td>100</td>\n",
       "      <td>3.09</td>\n",
       "      <td>Evening_Hours</td>\n",
       "      <td>Peak</td>\n",
       "      <td>Monday</td>\n",
       "      <td>Workday</td>\n",
       "      <td>Clouds</td>\n",
       "      <td>broken clouds</td>\n",
       "      <td>abnormal</td>\n",
       "    </tr>\n",
       "    <tr>\n",
       "      <th>2018-12-31 18:47:24</th>\n",
       "      <td>38.30</td>\n",
       "      <td>7.71</td>\n",
       "      <td>1032</td>\n",
       "      <td>100</td>\n",
       "      <td>3.09</td>\n",
       "      <td>Evening_Hours</td>\n",
       "      <td>Peak</td>\n",
       "      <td>Monday</td>\n",
       "      <td>Workday</td>\n",
       "      <td>Clouds</td>\n",
       "      <td>broken clouds</td>\n",
       "      <td>abnormal</td>\n",
       "    </tr>\n",
       "    <tr>\n",
       "      <th>...</th>\n",
       "      <td>...</td>\n",
       "      <td>...</td>\n",
       "      <td>...</td>\n",
       "      <td>...</td>\n",
       "      <td>...</td>\n",
       "      <td>...</td>\n",
       "      <td>...</td>\n",
       "      <td>...</td>\n",
       "      <td>...</td>\n",
       "      <td>...</td>\n",
       "      <td>...</td>\n",
       "      <td>...</td>\n",
       "    </tr>\n",
       "    <tr>\n",
       "      <th>2020-02-28 18:11:12</th>\n",
       "      <td>3.93</td>\n",
       "      <td>6.00</td>\n",
       "      <td>1013</td>\n",
       "      <td>56</td>\n",
       "      <td>3.60</td>\n",
       "      <td>Evening_Hours</td>\n",
       "      <td>Peak</td>\n",
       "      <td>Friday</td>\n",
       "      <td>Workday</td>\n",
       "      <td>Clear</td>\n",
       "      <td>sky is clear</td>\n",
       "      <td>normal</td>\n",
       "    </tr>\n",
       "    <tr>\n",
       "      <th>2020-02-28 18:14:31</th>\n",
       "      <td>4.33</td>\n",
       "      <td>6.00</td>\n",
       "      <td>1013</td>\n",
       "      <td>56</td>\n",
       "      <td>3.60</td>\n",
       "      <td>Evening_Hours</td>\n",
       "      <td>Peak</td>\n",
       "      <td>Friday</td>\n",
       "      <td>Workday</td>\n",
       "      <td>Clear</td>\n",
       "      <td>sky is clear</td>\n",
       "      <td>normal</td>\n",
       "    </tr>\n",
       "    <tr>\n",
       "      <th>2020-02-28 18:21:01</th>\n",
       "      <td>3.93</td>\n",
       "      <td>6.00</td>\n",
       "      <td>1013</td>\n",
       "      <td>56</td>\n",
       "      <td>3.60</td>\n",
       "      <td>Evening_Hours</td>\n",
       "      <td>Peak</td>\n",
       "      <td>Friday</td>\n",
       "      <td>Workday</td>\n",
       "      <td>Clear</td>\n",
       "      <td>sky is clear</td>\n",
       "      <td>normal</td>\n",
       "    </tr>\n",
       "    <tr>\n",
       "      <th>2020-02-28 18:24:01</th>\n",
       "      <td>4.10</td>\n",
       "      <td>6.00</td>\n",
       "      <td>1013</td>\n",
       "      <td>56</td>\n",
       "      <td>3.60</td>\n",
       "      <td>Evening_Hours</td>\n",
       "      <td>Peak</td>\n",
       "      <td>Friday</td>\n",
       "      <td>Workday</td>\n",
       "      <td>Clear</td>\n",
       "      <td>sky is clear</td>\n",
       "      <td>normal</td>\n",
       "    </tr>\n",
       "    <tr>\n",
       "      <th>2020-02-28 18:27:11</th>\n",
       "      <td>4.40</td>\n",
       "      <td>6.00</td>\n",
       "      <td>1013</td>\n",
       "      <td>56</td>\n",
       "      <td>3.60</td>\n",
       "      <td>Evening_Hours</td>\n",
       "      <td>Peak</td>\n",
       "      <td>Friday</td>\n",
       "      <td>Workday</td>\n",
       "      <td>Clear</td>\n",
       "      <td>sky is clear</td>\n",
       "      <td>normal</td>\n",
       "    </tr>\n",
       "  </tbody>\n",
       "</table>\n",
       "<p>162173 rows × 12 columns</p>\n",
       "</div>"
      ],
      "text/plain": [
       "                     PM 2.5  temp  pressure  humidity  wind_speed  \\\n",
       "Time_stamp                                                          \n",
       "2018-12-31 18:30:53  139.63  7.71      1032       100        3.09   \n",
       "2018-12-31 18:35:01  136.43  7.71      1032       100        3.09   \n",
       "2018-12-31 18:39:09  112.67  7.71      1032       100        3.09   \n",
       "2018-12-31 18:43:17   46.87  7.71      1032       100        3.09   \n",
       "2018-12-31 18:47:24   38.30  7.71      1032       100        3.09   \n",
       "...                     ...   ...       ...       ...         ...   \n",
       "2020-02-28 18:11:12    3.93  6.00      1013        56        3.60   \n",
       "2020-02-28 18:14:31    4.33  6.00      1013        56        3.60   \n",
       "2020-02-28 18:21:01    3.93  6.00      1013        56        3.60   \n",
       "2020-02-28 18:24:01    4.10  6.00      1013        56        3.60   \n",
       "2020-02-28 18:27:11    4.40  6.00      1013        56        3.60   \n",
       "\n",
       "                       Time of Day Peak/NoPeak     Day Week Day Weather  \\\n",
       "Time_stamp                                                                \n",
       "2018-12-31 18:30:53  Evening_Hours        Peak  Monday  Workday  Clouds   \n",
       "2018-12-31 18:35:01  Evening_Hours        Peak  Monday  Workday  Clouds   \n",
       "2018-12-31 18:39:09  Evening_Hours        Peak  Monday  Workday  Clouds   \n",
       "2018-12-31 18:43:17  Evening_Hours        Peak  Monday  Workday  Clouds   \n",
       "2018-12-31 18:47:24  Evening_Hours        Peak  Monday  Workday  Clouds   \n",
       "...                            ...         ...     ...      ...     ...   \n",
       "2020-02-28 18:11:12  Evening_Hours        Peak  Friday  Workday   Clear   \n",
       "2020-02-28 18:14:31  Evening_Hours        Peak  Friday  Workday   Clear   \n",
       "2020-02-28 18:21:01  Evening_Hours        Peak  Friday  Workday   Clear   \n",
       "2020-02-28 18:24:01  Evening_Hours        Peak  Friday  Workday   Clear   \n",
       "2020-02-28 18:27:11  Evening_Hours        Peak  Friday  Workday   Clear   \n",
       "\n",
       "                    Weather Description     label  \n",
       "Time_stamp                                         \n",
       "2018-12-31 18:30:53       broken clouds  abnormal  \n",
       "2018-12-31 18:35:01       broken clouds  abnormal  \n",
       "2018-12-31 18:39:09       broken clouds  abnormal  \n",
       "2018-12-31 18:43:17       broken clouds  abnormal  \n",
       "2018-12-31 18:47:24       broken clouds  abnormal  \n",
       "...                                 ...       ...  \n",
       "2020-02-28 18:11:12        sky is clear    normal  \n",
       "2020-02-28 18:14:31        sky is clear    normal  \n",
       "2020-02-28 18:21:01        sky is clear    normal  \n",
       "2020-02-28 18:24:01        sky is clear    normal  \n",
       "2020-02-28 18:27:11        sky is clear    normal  \n",
       "\n",
       "[162173 rows x 12 columns]"
      ]
     },
     "execution_count": 5,
     "metadata": {},
     "output_type": "execute_result"
    }
   ],
   "source": [
    "df"
   ]
  },
  {
   "cell_type": "markdown",
   "metadata": {},
   "source": [
    "IMPORTING ANOMALY MODULE FROM PYCARET"
   ]
  },
  {
   "cell_type": "code",
   "execution_count": 6,
   "metadata": {},
   "outputs": [
    {
     "name": "stdout",
     "output_type": "stream",
     "text": [
      "\n",
      "Setup Succesfully Completed!\n"
     ]
    },
    {
     "data": {
      "text/html": [
       "<style  type=\"text/css\" >\n",
       "</style><table id=\"T_1f3033d8_e2b1_11ea_8d7a_3497f69ae15b\" ><thead>    <tr>        <th class=\"blank level0\" ></th>        <th class=\"col_heading level0 col0\" >Description</th>        <th class=\"col_heading level0 col1\" >Value</th>    </tr></thead><tbody>\n",
       "                <tr>\n",
       "                        <th id=\"T_1f3033d8_e2b1_11ea_8d7a_3497f69ae15blevel0_row0\" class=\"row_heading level0 row0\" >0</th>\n",
       "                        <td id=\"T_1f3033d8_e2b1_11ea_8d7a_3497f69ae15brow0_col0\" class=\"data row0 col0\" >session_id </td>\n",
       "                        <td id=\"T_1f3033d8_e2b1_11ea_8d7a_3497f69ae15brow0_col1\" class=\"data row0 col1\" >1498</td>\n",
       "            </tr>\n",
       "            <tr>\n",
       "                        <th id=\"T_1f3033d8_e2b1_11ea_8d7a_3497f69ae15blevel0_row1\" class=\"row_heading level0 row1\" >1</th>\n",
       "                        <td id=\"T_1f3033d8_e2b1_11ea_8d7a_3497f69ae15brow1_col0\" class=\"data row1 col0\" >Original Data </td>\n",
       "                        <td id=\"T_1f3033d8_e2b1_11ea_8d7a_3497f69ae15brow1_col1\" class=\"data row1 col1\" >(162173, 12)</td>\n",
       "            </tr>\n",
       "            <tr>\n",
       "                        <th id=\"T_1f3033d8_e2b1_11ea_8d7a_3497f69ae15blevel0_row2\" class=\"row_heading level0 row2\" >2</th>\n",
       "                        <td id=\"T_1f3033d8_e2b1_11ea_8d7a_3497f69ae15brow2_col0\" class=\"data row2 col0\" >Missing Values </td>\n",
       "                        <td id=\"T_1f3033d8_e2b1_11ea_8d7a_3497f69ae15brow2_col1\" class=\"data row2 col1\" >False</td>\n",
       "            </tr>\n",
       "            <tr>\n",
       "                        <th id=\"T_1f3033d8_e2b1_11ea_8d7a_3497f69ae15blevel0_row3\" class=\"row_heading level0 row3\" >3</th>\n",
       "                        <td id=\"T_1f3033d8_e2b1_11ea_8d7a_3497f69ae15brow3_col0\" class=\"data row3 col0\" >Numeric Features </td>\n",
       "                        <td id=\"T_1f3033d8_e2b1_11ea_8d7a_3497f69ae15brow3_col1\" class=\"data row3 col1\" >5</td>\n",
       "            </tr>\n",
       "            <tr>\n",
       "                        <th id=\"T_1f3033d8_e2b1_11ea_8d7a_3497f69ae15blevel0_row4\" class=\"row_heading level0 row4\" >4</th>\n",
       "                        <td id=\"T_1f3033d8_e2b1_11ea_8d7a_3497f69ae15brow4_col0\" class=\"data row4 col0\" >Categorical Features </td>\n",
       "                        <td id=\"T_1f3033d8_e2b1_11ea_8d7a_3497f69ae15brow4_col1\" class=\"data row4 col1\" >7</td>\n",
       "            </tr>\n",
       "            <tr>\n",
       "                        <th id=\"T_1f3033d8_e2b1_11ea_8d7a_3497f69ae15blevel0_row5\" class=\"row_heading level0 row5\" >5</th>\n",
       "                        <td id=\"T_1f3033d8_e2b1_11ea_8d7a_3497f69ae15brow5_col0\" class=\"data row5 col0\" >Ordinal Features </td>\n",
       "                        <td id=\"T_1f3033d8_e2b1_11ea_8d7a_3497f69ae15brow5_col1\" class=\"data row5 col1\" >False</td>\n",
       "            </tr>\n",
       "            <tr>\n",
       "                        <th id=\"T_1f3033d8_e2b1_11ea_8d7a_3497f69ae15blevel0_row6\" class=\"row_heading level0 row6\" >6</th>\n",
       "                        <td id=\"T_1f3033d8_e2b1_11ea_8d7a_3497f69ae15brow6_col0\" class=\"data row6 col0\" >High Cardinality Features </td>\n",
       "                        <td id=\"T_1f3033d8_e2b1_11ea_8d7a_3497f69ae15brow6_col1\" class=\"data row6 col1\" >False</td>\n",
       "            </tr>\n",
       "            <tr>\n",
       "                        <th id=\"T_1f3033d8_e2b1_11ea_8d7a_3497f69ae15blevel0_row7\" class=\"row_heading level0 row7\" >7</th>\n",
       "                        <td id=\"T_1f3033d8_e2b1_11ea_8d7a_3497f69ae15brow7_col0\" class=\"data row7 col0\" >Transformed Data </td>\n",
       "                        <td id=\"T_1f3033d8_e2b1_11ea_8d7a_3497f69ae15brow7_col1\" class=\"data row7 col1\" >(162173, 113)</td>\n",
       "            </tr>\n",
       "            <tr>\n",
       "                        <th id=\"T_1f3033d8_e2b1_11ea_8d7a_3497f69ae15blevel0_row8\" class=\"row_heading level0 row8\" >8</th>\n",
       "                        <td id=\"T_1f3033d8_e2b1_11ea_8d7a_3497f69ae15brow8_col0\" class=\"data row8 col0\" >Numeric Imputer </td>\n",
       "                        <td id=\"T_1f3033d8_e2b1_11ea_8d7a_3497f69ae15brow8_col1\" class=\"data row8 col1\" >mean</td>\n",
       "            </tr>\n",
       "            <tr>\n",
       "                        <th id=\"T_1f3033d8_e2b1_11ea_8d7a_3497f69ae15blevel0_row9\" class=\"row_heading level0 row9\" >9</th>\n",
       "                        <td id=\"T_1f3033d8_e2b1_11ea_8d7a_3497f69ae15brow9_col0\" class=\"data row9 col0\" >Categorical Imputer </td>\n",
       "                        <td id=\"T_1f3033d8_e2b1_11ea_8d7a_3497f69ae15brow9_col1\" class=\"data row9 col1\" >constant</td>\n",
       "            </tr>\n",
       "            <tr>\n",
       "                        <th id=\"T_1f3033d8_e2b1_11ea_8d7a_3497f69ae15blevel0_row10\" class=\"row_heading level0 row10\" >10</th>\n",
       "                        <td id=\"T_1f3033d8_e2b1_11ea_8d7a_3497f69ae15brow10_col0\" class=\"data row10 col0\" >Normalize </td>\n",
       "                        <td id=\"T_1f3033d8_e2b1_11ea_8d7a_3497f69ae15brow10_col1\" class=\"data row10 col1\" >False</td>\n",
       "            </tr>\n",
       "            <tr>\n",
       "                        <th id=\"T_1f3033d8_e2b1_11ea_8d7a_3497f69ae15blevel0_row11\" class=\"row_heading level0 row11\" >11</th>\n",
       "                        <td id=\"T_1f3033d8_e2b1_11ea_8d7a_3497f69ae15brow11_col0\" class=\"data row11 col0\" >Normalize Method </td>\n",
       "                        <td id=\"T_1f3033d8_e2b1_11ea_8d7a_3497f69ae15brow11_col1\" class=\"data row11 col1\" >None</td>\n",
       "            </tr>\n",
       "            <tr>\n",
       "                        <th id=\"T_1f3033d8_e2b1_11ea_8d7a_3497f69ae15blevel0_row12\" class=\"row_heading level0 row12\" >12</th>\n",
       "                        <td id=\"T_1f3033d8_e2b1_11ea_8d7a_3497f69ae15brow12_col0\" class=\"data row12 col0\" >Transformation </td>\n",
       "                        <td id=\"T_1f3033d8_e2b1_11ea_8d7a_3497f69ae15brow12_col1\" class=\"data row12 col1\" >False</td>\n",
       "            </tr>\n",
       "            <tr>\n",
       "                        <th id=\"T_1f3033d8_e2b1_11ea_8d7a_3497f69ae15blevel0_row13\" class=\"row_heading level0 row13\" >13</th>\n",
       "                        <td id=\"T_1f3033d8_e2b1_11ea_8d7a_3497f69ae15brow13_col0\" class=\"data row13 col0\" >Transformation Method </td>\n",
       "                        <td id=\"T_1f3033d8_e2b1_11ea_8d7a_3497f69ae15brow13_col1\" class=\"data row13 col1\" >None</td>\n",
       "            </tr>\n",
       "            <tr>\n",
       "                        <th id=\"T_1f3033d8_e2b1_11ea_8d7a_3497f69ae15blevel0_row14\" class=\"row_heading level0 row14\" >14</th>\n",
       "                        <td id=\"T_1f3033d8_e2b1_11ea_8d7a_3497f69ae15brow14_col0\" class=\"data row14 col0\" >PCA </td>\n",
       "                        <td id=\"T_1f3033d8_e2b1_11ea_8d7a_3497f69ae15brow14_col1\" class=\"data row14 col1\" >False</td>\n",
       "            </tr>\n",
       "            <tr>\n",
       "                        <th id=\"T_1f3033d8_e2b1_11ea_8d7a_3497f69ae15blevel0_row15\" class=\"row_heading level0 row15\" >15</th>\n",
       "                        <td id=\"T_1f3033d8_e2b1_11ea_8d7a_3497f69ae15brow15_col0\" class=\"data row15 col0\" >PCA Method </td>\n",
       "                        <td id=\"T_1f3033d8_e2b1_11ea_8d7a_3497f69ae15brow15_col1\" class=\"data row15 col1\" >None</td>\n",
       "            </tr>\n",
       "            <tr>\n",
       "                        <th id=\"T_1f3033d8_e2b1_11ea_8d7a_3497f69ae15blevel0_row16\" class=\"row_heading level0 row16\" >16</th>\n",
       "                        <td id=\"T_1f3033d8_e2b1_11ea_8d7a_3497f69ae15brow16_col0\" class=\"data row16 col0\" >PCA components </td>\n",
       "                        <td id=\"T_1f3033d8_e2b1_11ea_8d7a_3497f69ae15brow16_col1\" class=\"data row16 col1\" >None</td>\n",
       "            </tr>\n",
       "            <tr>\n",
       "                        <th id=\"T_1f3033d8_e2b1_11ea_8d7a_3497f69ae15blevel0_row17\" class=\"row_heading level0 row17\" >17</th>\n",
       "                        <td id=\"T_1f3033d8_e2b1_11ea_8d7a_3497f69ae15brow17_col0\" class=\"data row17 col0\" >Ignore Low Variance </td>\n",
       "                        <td id=\"T_1f3033d8_e2b1_11ea_8d7a_3497f69ae15brow17_col1\" class=\"data row17 col1\" >False</td>\n",
       "            </tr>\n",
       "            <tr>\n",
       "                        <th id=\"T_1f3033d8_e2b1_11ea_8d7a_3497f69ae15blevel0_row18\" class=\"row_heading level0 row18\" >18</th>\n",
       "                        <td id=\"T_1f3033d8_e2b1_11ea_8d7a_3497f69ae15brow18_col0\" class=\"data row18 col0\" >Combine Rare Levels </td>\n",
       "                        <td id=\"T_1f3033d8_e2b1_11ea_8d7a_3497f69ae15brow18_col1\" class=\"data row18 col1\" >False</td>\n",
       "            </tr>\n",
       "            <tr>\n",
       "                        <th id=\"T_1f3033d8_e2b1_11ea_8d7a_3497f69ae15blevel0_row19\" class=\"row_heading level0 row19\" >19</th>\n",
       "                        <td id=\"T_1f3033d8_e2b1_11ea_8d7a_3497f69ae15brow19_col0\" class=\"data row19 col0\" >Rare Level Threshold </td>\n",
       "                        <td id=\"T_1f3033d8_e2b1_11ea_8d7a_3497f69ae15brow19_col1\" class=\"data row19 col1\" >None</td>\n",
       "            </tr>\n",
       "            <tr>\n",
       "                        <th id=\"T_1f3033d8_e2b1_11ea_8d7a_3497f69ae15blevel0_row20\" class=\"row_heading level0 row20\" >20</th>\n",
       "                        <td id=\"T_1f3033d8_e2b1_11ea_8d7a_3497f69ae15brow20_col0\" class=\"data row20 col0\" >Numeric Binning </td>\n",
       "                        <td id=\"T_1f3033d8_e2b1_11ea_8d7a_3497f69ae15brow20_col1\" class=\"data row20 col1\" >False</td>\n",
       "            </tr>\n",
       "            <tr>\n",
       "                        <th id=\"T_1f3033d8_e2b1_11ea_8d7a_3497f69ae15blevel0_row21\" class=\"row_heading level0 row21\" >21</th>\n",
       "                        <td id=\"T_1f3033d8_e2b1_11ea_8d7a_3497f69ae15brow21_col0\" class=\"data row21 col0\" >Remove Multicollinearity </td>\n",
       "                        <td id=\"T_1f3033d8_e2b1_11ea_8d7a_3497f69ae15brow21_col1\" class=\"data row21 col1\" >False</td>\n",
       "            </tr>\n",
       "            <tr>\n",
       "                        <th id=\"T_1f3033d8_e2b1_11ea_8d7a_3497f69ae15blevel0_row22\" class=\"row_heading level0 row22\" >22</th>\n",
       "                        <td id=\"T_1f3033d8_e2b1_11ea_8d7a_3497f69ae15brow22_col0\" class=\"data row22 col0\" >Multicollinearity Threshold </td>\n",
       "                        <td id=\"T_1f3033d8_e2b1_11ea_8d7a_3497f69ae15brow22_col1\" class=\"data row22 col1\" >None</td>\n",
       "            </tr>\n",
       "            <tr>\n",
       "                        <th id=\"T_1f3033d8_e2b1_11ea_8d7a_3497f69ae15blevel0_row23\" class=\"row_heading level0 row23\" >23</th>\n",
       "                        <td id=\"T_1f3033d8_e2b1_11ea_8d7a_3497f69ae15brow23_col0\" class=\"data row23 col0\" >Group Features </td>\n",
       "                        <td id=\"T_1f3033d8_e2b1_11ea_8d7a_3497f69ae15brow23_col1\" class=\"data row23 col1\" >False</td>\n",
       "            </tr>\n",
       "    </tbody></table>"
      ],
      "text/plain": [
       "<pandas.io.formats.style.Styler at 0x1d3b1cd1f88>"
      ]
     },
     "metadata": {},
     "output_type": "display_data"
    }
   ],
   "source": [
    "from pycaret.anomaly import *\n",
    "exp_ano=setup(df)"
   ]
  },
  {
   "cell_type": "markdown",
   "metadata": {},
   "source": [
    "CREATE IForest MODEL"
   ]
  },
  {
   "cell_type": "code",
   "execution_count": 7,
   "metadata": {},
   "outputs": [
    {
     "name": "stdout",
     "output_type": "stream",
     "text": [
      "time required to execute algorithm is:  55.51826000213623\n"
     ]
    }
   ],
   "source": [
    "import time\n",
    "start= time.time()\n",
    "iforest = create_model('iforest')\n",
    "iforest_df = assign_model(iforest)\n",
    "iforest_df\n",
    "\n",
    "print('time required to execute algorithm is: ', time.time()-start)"
   ]
  },
  {
   "cell_type": "markdown",
   "metadata": {},
   "source": [
    "CONVERTING LABELS"
   ]
  },
  {
   "cell_type": "code",
   "execution_count": 8,
   "metadata": {},
   "outputs": [
    {
     "name": "stdout",
     "output_type": "stream",
     "text": [
      "162173\n"
     ]
    }
   ],
   "source": [
    "idf = iforest_df['Label']\n",
    "ll = []\n",
    "for i in idf:\n",
    "    if i == 0:\n",
    "        ll.append('normal')\n",
    "    else:\n",
    "        ll.append('abnormal')\n",
    "\n",
    "print(len(ll))"
   ]
  },
  {
   "cell_type": "code",
   "execution_count": 9,
   "metadata": {},
   "outputs": [
    {
     "name": "stdout",
     "output_type": "stream",
     "text": [
      "8107\n"
     ]
    }
   ],
   "source": [
    "c = 0\n",
    "for x in ll:\n",
    "    if x == 'abnormal':\n",
    "        c +=1\n",
    "\n",
    "print(c)"
   ]
  },
  {
   "cell_type": "code",
   "execution_count": 10,
   "metadata": {},
   "outputs": [],
   "source": [
    "ff = df1[df1['boxName']=='Bernem']\n",
    "ff = ff.set_index('Time_stamp')\n"
   ]
  },
  {
   "cell_type": "markdown",
   "metadata": {},
   "source": [
    "## EVALUATION\n",
    "\n",
    "CALCULATING ACCURACY, PRECISION, RECALL AND F1-SCORE"
   ]
  },
  {
   "cell_type": "code",
   "execution_count": 11,
   "metadata": {},
   "outputs": [
    {
     "name": "stdout",
     "output_type": "stream",
     "text": [
      "Accuracy: 0.952717\n",
      "Precision: 0.524923\n",
      "Recall: 0.570248\n",
      "F1 score: 0.546648\n"
     ]
    }
   ],
   "source": [
    "from sklearn.metrics import accuracy_score, precision_score, recall_score, f1_score\n",
    "\n",
    "obt_label = ll\n",
    "gold_label = ff['label']\n",
    "testy = obt_label\n",
    "yhat_classes = gold_label\n",
    "\n",
    "# accuracy: (tp + tn) / (p + n)\n",
    "accuracy = accuracy_score(testy, yhat_classes)\n",
    "print('Accuracy: %f' % accuracy)\n",
    "# precision tp / (tp + fp)\n",
    "precision = precision_score(testy, yhat_classes, pos_label = 'abnormal')\n",
    "print('Precision: %f' % precision)\n",
    "# recall: tp / (tp + fn)\n",
    "recall = recall_score(testy, yhat_classes, pos_label = 'abnormal')\n",
    "print('Recall: %f' % recall)\n",
    "# f1: 2 tp / (2 tp + fp + fn)\n",
    "f1 = f1_score(testy, yhat_classes, pos_label = 'abnormal')\n",
    "print('F1 score: %f' % f1)"
   ]
  },
  {
   "cell_type": "markdown",
   "metadata": {},
   "source": [
    "TUNNING IForest MODEL"
   ]
  },
  {
   "cell_type": "code",
   "execution_count": 12,
   "metadata": {},
   "outputs": [
    {
     "data": {
      "application/vnd.jupyter.widget-view+json": {
       "model_id": "",
       "version_major": 2,
       "version_minor": 0
      },
      "text/plain": [
       "IntProgress(value=0, description='Processing: ', max=25)"
      ]
     },
     "metadata": {},
     "output_type": "display_data"
    },
    {
     "data": {
      "application/vnd.jupyter.widget-view+json": {
       "model_id": "7bb706ced18149a3b6d16a697464988a",
       "version_major": 2,
       "version_minor": 0
      },
      "text/plain": [
       "Output()"
      ]
     },
     "metadata": {},
     "output_type": "display_data"
    },
    {
     "data": {
      "text/html": [
       "        <script type=\"text/javascript\">\n",
       "        window.PlotlyConfig = {MathJaxConfig: 'local'};\n",
       "        if (window.MathJax) {MathJax.Hub.Config({SVG: {font: \"STIX-Web\"}});}\n",
       "        if (typeof require !== 'undefined') {\n",
       "        require.undef(\"plotly\");\n",
       "        requirejs.config({\n",
       "            paths: {\n",
       "                'plotly': ['https://cdn.plot.ly/plotly-latest.min']\n",
       "            }\n",
       "        });\n",
       "        require(['plotly'], function(Plotly) {\n",
       "            window._Plotly = Plotly;\n",
       "        });\n",
       "        }\n",
       "        </script>\n",
       "        "
      ]
     },
     "metadata": {},
     "output_type": "display_data"
    },
    {
     "data": {
      "application/vnd.plotly.v1+json": {
       "config": {
        "plotlyServerURL": "https://plot.ly"
       },
       "data": [
        {
         "hoverlabel": {
          "namelength": 0
         },
         "hovertemplate": "Metric=Accuracy<br>Fraction %=%{x}<br>Score=%{y}",
         "legendgroup": "Metric=Accuracy",
         "line": {
          "color": "#636efa",
          "dash": "solid",
          "shape": "linear"
         },
         "mode": "lines",
         "name": "Metric=Accuracy",
         "showlegend": true,
         "type": "scatter",
         "x": [
          0,
          0.01,
          0.02,
          0.03,
          0.04,
          0.05,
          0.06,
          0.07,
          0.08,
          0.09,
          0.1
         ],
         "xaxis": "x",
         "y": [
          0.9574466773137329,
          0.9576474398500221,
          0.9589381555517803,
          0.960841152388944,
          0.9605744896779415,
          0.9582332705912897,
          0.9582554394526765,
          0.962328199484184,
          0.9608133557627221,
          0.9613193037610185,
          0.9616346384407221
         ],
         "yaxis": "y"
        },
        {
         "hoverlabel": {
          "namelength": 0
         },
         "hovertemplate": "Metric=AUC<br>Fraction %=%{x}<br>Score=%{y}",
         "legendgroup": "Metric=AUC",
         "line": {
          "color": "#EF553B",
          "dash": "solid",
          "shape": "linear"
         },
         "mode": "lines",
         "name": "Metric=AUC",
         "showlegend": true,
         "type": "scatter",
         "x": [
          0,
          0.01,
          0.02,
          0.03,
          0.04,
          0.05,
          0.06,
          0.07,
          0.08,
          0.09,
          0.1
         ],
         "xaxis": "x",
         "y": [
          0.9428914925758756,
          0.9426220019409353,
          0.9471487790274289,
          0.9458825802387851,
          0.9468200865676328,
          0.9433737323710422,
          0.9487215775245279,
          0.9489829858826468,
          0.9518354164765417,
          0.9553219934231654,
          0.9550690371995165
         ],
         "yaxis": "y"
        },
        {
         "hoverlabel": {
          "namelength": 0
         },
         "hovertemplate": "Metric=Recall<br>Fraction %=%{x}<br>Score=%{y}",
         "legendgroup": "Metric=Recall",
         "line": {
          "color": "#00cc96",
          "dash": "solid",
          "shape": "linear"
         },
         "mode": "lines",
         "name": "Metric=Recall",
         "showlegend": true,
         "type": "scatter",
         "x": [
          0,
          0.01,
          0.02,
          0.03,
          0.04,
          0.05,
          0.06,
          0.07,
          0.08,
          0.09,
          0.1
         ],
         "xaxis": "x",
         "y": [
          0.9866593638746528,
          0.9877559887039121,
          0.9887386489037799,
          0.9874449457514234,
          0.9873475227317418,
          0.9872774582306217,
          0.9861309021484996,
          0.9889767302059961,
          0.9869224247562527,
          0.9869632887353105,
          0.9866286415652864
         ],
         "yaxis": "y"
        },
        {
         "hoverlabel": {
          "namelength": 0
         },
         "hovertemplate": "Metric=Precision<br>Fraction %=%{x}<br>Score=%{y}",
         "legendgroup": "Metric=Precision",
         "line": {
          "color": "#ab63fa",
          "dash": "solid",
          "shape": "linear"
         },
         "mode": "lines",
         "name": "Metric=Precision",
         "showlegend": true,
         "type": "scatter",
         "x": [
          0,
          0.01,
          0.02,
          0.03,
          0.04,
          0.05,
          0.06,
          0.07,
          0.08,
          0.09,
          0.1
         ],
         "xaxis": "x",
         "y": [
          0.9689130782775732,
          0.9681271815782851,
          0.9685342918913287,
          0.9716577257472054,
          0.9714985288917651,
          0.969232113687239,
          0.9703307922679009,
          0.9718041885032523,
          0.9721891637958033,
          0.9726785953012531,
          0.9733050334399328
         ],
         "yaxis": "y"
        },
        {
         "hoverlabel": {
          "namelength": 0
         },
         "hovertemplate": "Metric=F1<br>Fraction %=%{x}<br>Score=%{y}",
         "legendgroup": "Metric=F1",
         "line": {
          "color": "#FFA15A",
          "dash": "solid",
          "shape": "linear"
         },
         "mode": "lines",
         "name": "Metric=F1",
         "showlegend": true,
         "type": "scatter",
         "x": [
          0,
          0.01,
          0.02,
          0.03,
          0.04,
          0.05,
          0.06,
          0.07,
          0.08,
          0.09,
          0.1
         ],
         "xaxis": "x",
         "y": [
          0.9777056997295996,
          0.9778430899766049,
          0.9785321885588342,
          0.979487725934707,
          0.9793589088267736,
          0.9781715677461593,
          0.9781670474739782,
          0.9803152606963451,
          0.9795003944254537,
          0.9797688783049658,
          0.9799215506299613
         ],
         "yaxis": "y"
        },
        {
         "hoverlabel": {
          "namelength": 0
         },
         "hovertemplate": "Metric=Kappa<br>Fraction %=%{x}<br>Score=%{y}",
         "legendgroup": "Metric=Kappa",
         "line": {
          "color": "#19d3f3",
          "dash": "solid",
          "shape": "linear"
         },
         "mode": "lines",
         "name": "Metric=Kappa",
         "showlegend": true,
         "type": "scatter",
         "x": [
          0,
          0.01,
          0.02,
          0.03,
          0.04,
          0.05,
          0.06,
          0.07,
          0.08,
          0.09,
          0.1
         ],
         "xaxis": "x",
         "y": [
          0.5124188969466958,
          0.50046065664066,
          0.5092341213079943,
          0.549573266349853,
          0.5416926583004993,
          0.49676987303946785,
          0.5045101859267709,
          0.5442827956099929,
          0.5368770891839975,
          0.5410431549210787,
          0.5503910687487525
         ],
         "yaxis": "y"
        }
       ],
       "layout": {
        "legend": {
         "tracegroupgap": 0
        },
        "margin": {
         "t": 60
        },
        "plot_bgcolor": "rgb(245,245,245)",
        "template": {
         "data": {
          "bar": [
           {
            "error_x": {
             "color": "#2a3f5f"
            },
            "error_y": {
             "color": "#2a3f5f"
            },
            "marker": {
             "line": {
              "color": "#E5ECF6",
              "width": 0.5
             }
            },
            "type": "bar"
           }
          ],
          "barpolar": [
           {
            "marker": {
             "line": {
              "color": "#E5ECF6",
              "width": 0.5
             }
            },
            "type": "barpolar"
           }
          ],
          "carpet": [
           {
            "aaxis": {
             "endlinecolor": "#2a3f5f",
             "gridcolor": "white",
             "linecolor": "white",
             "minorgridcolor": "white",
             "startlinecolor": "#2a3f5f"
            },
            "baxis": {
             "endlinecolor": "#2a3f5f",
             "gridcolor": "white",
             "linecolor": "white",
             "minorgridcolor": "white",
             "startlinecolor": "#2a3f5f"
            },
            "type": "carpet"
           }
          ],
          "choropleth": [
           {
            "colorbar": {
             "outlinewidth": 0,
             "ticks": ""
            },
            "type": "choropleth"
           }
          ],
          "contour": [
           {
            "colorbar": {
             "outlinewidth": 0,
             "ticks": ""
            },
            "colorscale": [
             [
              0,
              "#0d0887"
             ],
             [
              0.1111111111111111,
              "#46039f"
             ],
             [
              0.2222222222222222,
              "#7201a8"
             ],
             [
              0.3333333333333333,
              "#9c179e"
             ],
             [
              0.4444444444444444,
              "#bd3786"
             ],
             [
              0.5555555555555556,
              "#d8576b"
             ],
             [
              0.6666666666666666,
              "#ed7953"
             ],
             [
              0.7777777777777778,
              "#fb9f3a"
             ],
             [
              0.8888888888888888,
              "#fdca26"
             ],
             [
              1,
              "#f0f921"
             ]
            ],
            "type": "contour"
           }
          ],
          "contourcarpet": [
           {
            "colorbar": {
             "outlinewidth": 0,
             "ticks": ""
            },
            "type": "contourcarpet"
           }
          ],
          "heatmap": [
           {
            "colorbar": {
             "outlinewidth": 0,
             "ticks": ""
            },
            "colorscale": [
             [
              0,
              "#0d0887"
             ],
             [
              0.1111111111111111,
              "#46039f"
             ],
             [
              0.2222222222222222,
              "#7201a8"
             ],
             [
              0.3333333333333333,
              "#9c179e"
             ],
             [
              0.4444444444444444,
              "#bd3786"
             ],
             [
              0.5555555555555556,
              "#d8576b"
             ],
             [
              0.6666666666666666,
              "#ed7953"
             ],
             [
              0.7777777777777778,
              "#fb9f3a"
             ],
             [
              0.8888888888888888,
              "#fdca26"
             ],
             [
              1,
              "#f0f921"
             ]
            ],
            "type": "heatmap"
           }
          ],
          "heatmapgl": [
           {
            "colorbar": {
             "outlinewidth": 0,
             "ticks": ""
            },
            "colorscale": [
             [
              0,
              "#0d0887"
             ],
             [
              0.1111111111111111,
              "#46039f"
             ],
             [
              0.2222222222222222,
              "#7201a8"
             ],
             [
              0.3333333333333333,
              "#9c179e"
             ],
             [
              0.4444444444444444,
              "#bd3786"
             ],
             [
              0.5555555555555556,
              "#d8576b"
             ],
             [
              0.6666666666666666,
              "#ed7953"
             ],
             [
              0.7777777777777778,
              "#fb9f3a"
             ],
             [
              0.8888888888888888,
              "#fdca26"
             ],
             [
              1,
              "#f0f921"
             ]
            ],
            "type": "heatmapgl"
           }
          ],
          "histogram": [
           {
            "marker": {
             "colorbar": {
              "outlinewidth": 0,
              "ticks": ""
             }
            },
            "type": "histogram"
           }
          ],
          "histogram2d": [
           {
            "colorbar": {
             "outlinewidth": 0,
             "ticks": ""
            },
            "colorscale": [
             [
              0,
              "#0d0887"
             ],
             [
              0.1111111111111111,
              "#46039f"
             ],
             [
              0.2222222222222222,
              "#7201a8"
             ],
             [
              0.3333333333333333,
              "#9c179e"
             ],
             [
              0.4444444444444444,
              "#bd3786"
             ],
             [
              0.5555555555555556,
              "#d8576b"
             ],
             [
              0.6666666666666666,
              "#ed7953"
             ],
             [
              0.7777777777777778,
              "#fb9f3a"
             ],
             [
              0.8888888888888888,
              "#fdca26"
             ],
             [
              1,
              "#f0f921"
             ]
            ],
            "type": "histogram2d"
           }
          ],
          "histogram2dcontour": [
           {
            "colorbar": {
             "outlinewidth": 0,
             "ticks": ""
            },
            "colorscale": [
             [
              0,
              "#0d0887"
             ],
             [
              0.1111111111111111,
              "#46039f"
             ],
             [
              0.2222222222222222,
              "#7201a8"
             ],
             [
              0.3333333333333333,
              "#9c179e"
             ],
             [
              0.4444444444444444,
              "#bd3786"
             ],
             [
              0.5555555555555556,
              "#d8576b"
             ],
             [
              0.6666666666666666,
              "#ed7953"
             ],
             [
              0.7777777777777778,
              "#fb9f3a"
             ],
             [
              0.8888888888888888,
              "#fdca26"
             ],
             [
              1,
              "#f0f921"
             ]
            ],
            "type": "histogram2dcontour"
           }
          ],
          "mesh3d": [
           {
            "colorbar": {
             "outlinewidth": 0,
             "ticks": ""
            },
            "type": "mesh3d"
           }
          ],
          "parcoords": [
           {
            "line": {
             "colorbar": {
              "outlinewidth": 0,
              "ticks": ""
             }
            },
            "type": "parcoords"
           }
          ],
          "pie": [
           {
            "automargin": true,
            "type": "pie"
           }
          ],
          "scatter": [
           {
            "marker": {
             "colorbar": {
              "outlinewidth": 0,
              "ticks": ""
             }
            },
            "type": "scatter"
           }
          ],
          "scatter3d": [
           {
            "line": {
             "colorbar": {
              "outlinewidth": 0,
              "ticks": ""
             }
            },
            "marker": {
             "colorbar": {
              "outlinewidth": 0,
              "ticks": ""
             }
            },
            "type": "scatter3d"
           }
          ],
          "scattercarpet": [
           {
            "marker": {
             "colorbar": {
              "outlinewidth": 0,
              "ticks": ""
             }
            },
            "type": "scattercarpet"
           }
          ],
          "scattergeo": [
           {
            "marker": {
             "colorbar": {
              "outlinewidth": 0,
              "ticks": ""
             }
            },
            "type": "scattergeo"
           }
          ],
          "scattergl": [
           {
            "marker": {
             "colorbar": {
              "outlinewidth": 0,
              "ticks": ""
             }
            },
            "type": "scattergl"
           }
          ],
          "scattermapbox": [
           {
            "marker": {
             "colorbar": {
              "outlinewidth": 0,
              "ticks": ""
             }
            },
            "type": "scattermapbox"
           }
          ],
          "scatterpolar": [
           {
            "marker": {
             "colorbar": {
              "outlinewidth": 0,
              "ticks": ""
             }
            },
            "type": "scatterpolar"
           }
          ],
          "scatterpolargl": [
           {
            "marker": {
             "colorbar": {
              "outlinewidth": 0,
              "ticks": ""
             }
            },
            "type": "scatterpolargl"
           }
          ],
          "scatterternary": [
           {
            "marker": {
             "colorbar": {
              "outlinewidth": 0,
              "ticks": ""
             }
            },
            "type": "scatterternary"
           }
          ],
          "surface": [
           {
            "colorbar": {
             "outlinewidth": 0,
             "ticks": ""
            },
            "colorscale": [
             [
              0,
              "#0d0887"
             ],
             [
              0.1111111111111111,
              "#46039f"
             ],
             [
              0.2222222222222222,
              "#7201a8"
             ],
             [
              0.3333333333333333,
              "#9c179e"
             ],
             [
              0.4444444444444444,
              "#bd3786"
             ],
             [
              0.5555555555555556,
              "#d8576b"
             ],
             [
              0.6666666666666666,
              "#ed7953"
             ],
             [
              0.7777777777777778,
              "#fb9f3a"
             ],
             [
              0.8888888888888888,
              "#fdca26"
             ],
             [
              1,
              "#f0f921"
             ]
            ],
            "type": "surface"
           }
          ],
          "table": [
           {
            "cells": {
             "fill": {
              "color": "#EBF0F8"
             },
             "line": {
              "color": "white"
             }
            },
            "header": {
             "fill": {
              "color": "#C8D4E3"
             },
             "line": {
              "color": "white"
             }
            },
            "type": "table"
           }
          ]
         },
         "layout": {
          "annotationdefaults": {
           "arrowcolor": "#2a3f5f",
           "arrowhead": 0,
           "arrowwidth": 1
          },
          "coloraxis": {
           "colorbar": {
            "outlinewidth": 0,
            "ticks": ""
           }
          },
          "colorscale": {
           "diverging": [
            [
             0,
             "#8e0152"
            ],
            [
             0.1,
             "#c51b7d"
            ],
            [
             0.2,
             "#de77ae"
            ],
            [
             0.3,
             "#f1b6da"
            ],
            [
             0.4,
             "#fde0ef"
            ],
            [
             0.5,
             "#f7f7f7"
            ],
            [
             0.6,
             "#e6f5d0"
            ],
            [
             0.7,
             "#b8e186"
            ],
            [
             0.8,
             "#7fbc41"
            ],
            [
             0.9,
             "#4d9221"
            ],
            [
             1,
             "#276419"
            ]
           ],
           "sequential": [
            [
             0,
             "#0d0887"
            ],
            [
             0.1111111111111111,
             "#46039f"
            ],
            [
             0.2222222222222222,
             "#7201a8"
            ],
            [
             0.3333333333333333,
             "#9c179e"
            ],
            [
             0.4444444444444444,
             "#bd3786"
            ],
            [
             0.5555555555555556,
             "#d8576b"
            ],
            [
             0.6666666666666666,
             "#ed7953"
            ],
            [
             0.7777777777777778,
             "#fb9f3a"
            ],
            [
             0.8888888888888888,
             "#fdca26"
            ],
            [
             1,
             "#f0f921"
            ]
           ],
           "sequentialminus": [
            [
             0,
             "#0d0887"
            ],
            [
             0.1111111111111111,
             "#46039f"
            ],
            [
             0.2222222222222222,
             "#7201a8"
            ],
            [
             0.3333333333333333,
             "#9c179e"
            ],
            [
             0.4444444444444444,
             "#bd3786"
            ],
            [
             0.5555555555555556,
             "#d8576b"
            ],
            [
             0.6666666666666666,
             "#ed7953"
            ],
            [
             0.7777777777777778,
             "#fb9f3a"
            ],
            [
             0.8888888888888888,
             "#fdca26"
            ],
            [
             1,
             "#f0f921"
            ]
           ]
          },
          "colorway": [
           "#636efa",
           "#EF553B",
           "#00cc96",
           "#ab63fa",
           "#FFA15A",
           "#19d3f3",
           "#FF6692",
           "#B6E880",
           "#FF97FF",
           "#FECB52"
          ],
          "font": {
           "color": "#2a3f5f"
          },
          "geo": {
           "bgcolor": "white",
           "lakecolor": "white",
           "landcolor": "#E5ECF6",
           "showlakes": true,
           "showland": true,
           "subunitcolor": "white"
          },
          "hoverlabel": {
           "align": "left"
          },
          "hovermode": "closest",
          "mapbox": {
           "style": "light"
          },
          "paper_bgcolor": "white",
          "plot_bgcolor": "#E5ECF6",
          "polar": {
           "angularaxis": {
            "gridcolor": "white",
            "linecolor": "white",
            "ticks": ""
           },
           "bgcolor": "#E5ECF6",
           "radialaxis": {
            "gridcolor": "white",
            "linecolor": "white",
            "ticks": ""
           }
          },
          "scene": {
           "xaxis": {
            "backgroundcolor": "#E5ECF6",
            "gridcolor": "white",
            "gridwidth": 2,
            "linecolor": "white",
            "showbackground": true,
            "ticks": "",
            "zerolinecolor": "white"
           },
           "yaxis": {
            "backgroundcolor": "#E5ECF6",
            "gridcolor": "white",
            "gridwidth": 2,
            "linecolor": "white",
            "showbackground": true,
            "ticks": "",
            "zerolinecolor": "white"
           },
           "zaxis": {
            "backgroundcolor": "#E5ECF6",
            "gridcolor": "white",
            "gridwidth": 2,
            "linecolor": "white",
            "showbackground": true,
            "ticks": "",
            "zerolinecolor": "white"
           }
          },
          "shapedefaults": {
           "line": {
            "color": "#2a3f5f"
           }
          },
          "ternary": {
           "aaxis": {
            "gridcolor": "white",
            "linecolor": "white",
            "ticks": ""
           },
           "baxis": {
            "gridcolor": "white",
            "linecolor": "white",
            "ticks": ""
           },
           "bgcolor": "#E5ECF6",
           "caxis": {
            "gridcolor": "white",
            "linecolor": "white",
            "ticks": ""
           }
          },
          "title": {
           "x": 0.05
          },
          "xaxis": {
           "automargin": true,
           "gridcolor": "white",
           "linecolor": "white",
           "ticks": "",
           "title": {
            "standoff": 15
           },
           "zerolinecolor": "white",
           "zerolinewidth": 2
          },
          "yaxis": {
           "automargin": true,
           "gridcolor": "white",
           "linecolor": "white",
           "ticks": "",
           "title": {
            "standoff": 15
           },
           "zerolinecolor": "white",
           "zerolinewidth": 2
          }
         }
        },
        "title": {
         "text": "Logistic Regression Metrics and Fraction %",
         "x": 0.45,
         "xanchor": "center",
         "y": 0.95,
         "yanchor": "top"
        },
        "xaxis": {
         "anchor": "y",
         "domain": [
          0,
          1
         ],
         "title": {
          "text": "Fraction %"
         }
        },
        "yaxis": {
         "anchor": "x",
         "domain": [
          0,
          1
         ],
         "range": [
          0,
          1
         ],
         "title": {
          "text": "Score"
         }
        }
       }
      },
      "text/html": [
       "<div>\n",
       "        \n",
       "        \n",
       "            <div id=\"6834abe4-46d6-4320-b168-b47da48d5aea\" class=\"plotly-graph-div\" style=\"height:525px; width:100%;\"></div>\n",
       "            <script type=\"text/javascript\">\n",
       "                require([\"plotly\"], function(Plotly) {\n",
       "                    window.PLOTLYENV=window.PLOTLYENV || {};\n",
       "                    \n",
       "                if (document.getElementById(\"6834abe4-46d6-4320-b168-b47da48d5aea\")) {\n",
       "                    Plotly.newPlot(\n",
       "                        '6834abe4-46d6-4320-b168-b47da48d5aea',\n",
       "                        [{\"hoverlabel\": {\"namelength\": 0}, \"hovertemplate\": \"Metric=Accuracy<br>Fraction %=%{x}<br>Score=%{y}\", \"legendgroup\": \"Metric=Accuracy\", \"line\": {\"color\": \"#636efa\", \"dash\": \"solid\", \"shape\": \"linear\"}, \"mode\": \"lines\", \"name\": \"Metric=Accuracy\", \"showlegend\": true, \"type\": \"scatter\", \"x\": [0.0, 0.01, 0.02, 0.03, 0.04, 0.05, 0.06, 0.07, 0.08, 0.09, 0.1], \"xaxis\": \"x\", \"y\": [0.9574466773137329, 0.9576474398500221, 0.9589381555517803, 0.960841152388944, 0.9605744896779415, 0.9582332705912897, 0.9582554394526765, 0.962328199484184, 0.9608133557627221, 0.9613193037610185, 0.9616346384407221], \"yaxis\": \"y\"}, {\"hoverlabel\": {\"namelength\": 0}, \"hovertemplate\": \"Metric=AUC<br>Fraction %=%{x}<br>Score=%{y}\", \"legendgroup\": \"Metric=AUC\", \"line\": {\"color\": \"#EF553B\", \"dash\": \"solid\", \"shape\": \"linear\"}, \"mode\": \"lines\", \"name\": \"Metric=AUC\", \"showlegend\": true, \"type\": \"scatter\", \"x\": [0.0, 0.01, 0.02, 0.03, 0.04, 0.05, 0.06, 0.07, 0.08, 0.09, 0.1], \"xaxis\": \"x\", \"y\": [0.9428914925758756, 0.9426220019409353, 0.9471487790274289, 0.9458825802387851, 0.9468200865676328, 0.9433737323710422, 0.9487215775245279, 0.9489829858826468, 0.9518354164765417, 0.9553219934231654, 0.9550690371995165], \"yaxis\": \"y\"}, {\"hoverlabel\": {\"namelength\": 0}, \"hovertemplate\": \"Metric=Recall<br>Fraction %=%{x}<br>Score=%{y}\", \"legendgroup\": \"Metric=Recall\", \"line\": {\"color\": \"#00cc96\", \"dash\": \"solid\", \"shape\": \"linear\"}, \"mode\": \"lines\", \"name\": \"Metric=Recall\", \"showlegend\": true, \"type\": \"scatter\", \"x\": [0.0, 0.01, 0.02, 0.03, 0.04, 0.05, 0.06, 0.07, 0.08, 0.09, 0.1], \"xaxis\": \"x\", \"y\": [0.9866593638746528, 0.9877559887039121, 0.9887386489037799, 0.9874449457514234, 0.9873475227317418, 0.9872774582306217, 0.9861309021484996, 0.9889767302059961, 0.9869224247562527, 0.9869632887353105, 0.9866286415652864], \"yaxis\": \"y\"}, {\"hoverlabel\": {\"namelength\": 0}, \"hovertemplate\": \"Metric=Precision<br>Fraction %=%{x}<br>Score=%{y}\", \"legendgroup\": \"Metric=Precision\", \"line\": {\"color\": \"#ab63fa\", \"dash\": \"solid\", \"shape\": \"linear\"}, \"mode\": \"lines\", \"name\": \"Metric=Precision\", \"showlegend\": true, \"type\": \"scatter\", \"x\": [0.0, 0.01, 0.02, 0.03, 0.04, 0.05, 0.06, 0.07, 0.08, 0.09, 0.1], \"xaxis\": \"x\", \"y\": [0.9689130782775732, 0.9681271815782851, 0.9685342918913287, 0.9716577257472054, 0.9714985288917651, 0.969232113687239, 0.9703307922679009, 0.9718041885032523, 0.9721891637958033, 0.9726785953012531, 0.9733050334399328], \"yaxis\": \"y\"}, {\"hoverlabel\": {\"namelength\": 0}, \"hovertemplate\": \"Metric=F1<br>Fraction %=%{x}<br>Score=%{y}\", \"legendgroup\": \"Metric=F1\", \"line\": {\"color\": \"#FFA15A\", \"dash\": \"solid\", \"shape\": \"linear\"}, \"mode\": \"lines\", \"name\": \"Metric=F1\", \"showlegend\": true, \"type\": \"scatter\", \"x\": [0.0, 0.01, 0.02, 0.03, 0.04, 0.05, 0.06, 0.07, 0.08, 0.09, 0.1], \"xaxis\": \"x\", \"y\": [0.9777056997295996, 0.9778430899766049, 0.9785321885588342, 0.979487725934707, 0.9793589088267736, 0.9781715677461593, 0.9781670474739782, 0.9803152606963451, 0.9795003944254537, 0.9797688783049658, 0.9799215506299613], \"yaxis\": \"y\"}, {\"hoverlabel\": {\"namelength\": 0}, \"hovertemplate\": \"Metric=Kappa<br>Fraction %=%{x}<br>Score=%{y}\", \"legendgroup\": \"Metric=Kappa\", \"line\": {\"color\": \"#19d3f3\", \"dash\": \"solid\", \"shape\": \"linear\"}, \"mode\": \"lines\", \"name\": \"Metric=Kappa\", \"showlegend\": true, \"type\": \"scatter\", \"x\": [0.0, 0.01, 0.02, 0.03, 0.04, 0.05, 0.06, 0.07, 0.08, 0.09, 0.1], \"xaxis\": \"x\", \"y\": [0.5124188969466958, 0.50046065664066, 0.5092341213079943, 0.549573266349853, 0.5416926583004993, 0.49676987303946785, 0.5045101859267709, 0.5442827956099929, 0.5368770891839975, 0.5410431549210787, 0.5503910687487525], \"yaxis\": \"y\"}],\n",
       "                        {\"legend\": {\"tracegroupgap\": 0}, \"margin\": {\"t\": 60}, \"plot_bgcolor\": \"rgb(245,245,245)\", \"template\": {\"data\": {\"bar\": [{\"error_x\": {\"color\": \"#2a3f5f\"}, \"error_y\": {\"color\": \"#2a3f5f\"}, \"marker\": {\"line\": {\"color\": \"#E5ECF6\", \"width\": 0.5}}, \"type\": \"bar\"}], \"barpolar\": [{\"marker\": {\"line\": {\"color\": \"#E5ECF6\", \"width\": 0.5}}, \"type\": \"barpolar\"}], \"carpet\": [{\"aaxis\": {\"endlinecolor\": \"#2a3f5f\", \"gridcolor\": \"white\", \"linecolor\": \"white\", \"minorgridcolor\": \"white\", \"startlinecolor\": \"#2a3f5f\"}, \"baxis\": {\"endlinecolor\": \"#2a3f5f\", \"gridcolor\": \"white\", \"linecolor\": \"white\", \"minorgridcolor\": \"white\", \"startlinecolor\": \"#2a3f5f\"}, \"type\": \"carpet\"}], \"choropleth\": [{\"colorbar\": {\"outlinewidth\": 0, \"ticks\": \"\"}, \"type\": \"choropleth\"}], \"contour\": [{\"colorbar\": {\"outlinewidth\": 0, \"ticks\": \"\"}, \"colorscale\": [[0.0, \"#0d0887\"], [0.1111111111111111, \"#46039f\"], [0.2222222222222222, \"#7201a8\"], [0.3333333333333333, \"#9c179e\"], [0.4444444444444444, \"#bd3786\"], [0.5555555555555556, \"#d8576b\"], [0.6666666666666666, \"#ed7953\"], [0.7777777777777778, \"#fb9f3a\"], [0.8888888888888888, \"#fdca26\"], [1.0, \"#f0f921\"]], \"type\": \"contour\"}], \"contourcarpet\": [{\"colorbar\": {\"outlinewidth\": 0, \"ticks\": \"\"}, \"type\": \"contourcarpet\"}], \"heatmap\": [{\"colorbar\": {\"outlinewidth\": 0, \"ticks\": \"\"}, \"colorscale\": [[0.0, \"#0d0887\"], [0.1111111111111111, \"#46039f\"], [0.2222222222222222, \"#7201a8\"], [0.3333333333333333, \"#9c179e\"], [0.4444444444444444, \"#bd3786\"], [0.5555555555555556, \"#d8576b\"], [0.6666666666666666, \"#ed7953\"], [0.7777777777777778, \"#fb9f3a\"], [0.8888888888888888, \"#fdca26\"], [1.0, \"#f0f921\"]], \"type\": \"heatmap\"}], \"heatmapgl\": [{\"colorbar\": {\"outlinewidth\": 0, \"ticks\": \"\"}, \"colorscale\": [[0.0, \"#0d0887\"], [0.1111111111111111, \"#46039f\"], [0.2222222222222222, \"#7201a8\"], [0.3333333333333333, \"#9c179e\"], [0.4444444444444444, \"#bd3786\"], [0.5555555555555556, \"#d8576b\"], [0.6666666666666666, \"#ed7953\"], [0.7777777777777778, \"#fb9f3a\"], [0.8888888888888888, \"#fdca26\"], [1.0, \"#f0f921\"]], \"type\": \"heatmapgl\"}], \"histogram\": [{\"marker\": {\"colorbar\": {\"outlinewidth\": 0, \"ticks\": \"\"}}, \"type\": \"histogram\"}], \"histogram2d\": [{\"colorbar\": {\"outlinewidth\": 0, \"ticks\": \"\"}, \"colorscale\": [[0.0, \"#0d0887\"], [0.1111111111111111, \"#46039f\"], [0.2222222222222222, \"#7201a8\"], [0.3333333333333333, \"#9c179e\"], [0.4444444444444444, \"#bd3786\"], [0.5555555555555556, \"#d8576b\"], [0.6666666666666666, \"#ed7953\"], [0.7777777777777778, \"#fb9f3a\"], [0.8888888888888888, \"#fdca26\"], [1.0, \"#f0f921\"]], \"type\": \"histogram2d\"}], \"histogram2dcontour\": [{\"colorbar\": {\"outlinewidth\": 0, \"ticks\": \"\"}, \"colorscale\": [[0.0, \"#0d0887\"], [0.1111111111111111, \"#46039f\"], [0.2222222222222222, \"#7201a8\"], [0.3333333333333333, \"#9c179e\"], [0.4444444444444444, \"#bd3786\"], [0.5555555555555556, \"#d8576b\"], [0.6666666666666666, \"#ed7953\"], [0.7777777777777778, \"#fb9f3a\"], [0.8888888888888888, \"#fdca26\"], [1.0, \"#f0f921\"]], \"type\": \"histogram2dcontour\"}], \"mesh3d\": [{\"colorbar\": {\"outlinewidth\": 0, \"ticks\": \"\"}, \"type\": \"mesh3d\"}], \"parcoords\": [{\"line\": {\"colorbar\": {\"outlinewidth\": 0, \"ticks\": \"\"}}, \"type\": \"parcoords\"}], \"pie\": [{\"automargin\": true, \"type\": \"pie\"}], \"scatter\": [{\"marker\": {\"colorbar\": {\"outlinewidth\": 0, \"ticks\": \"\"}}, \"type\": \"scatter\"}], \"scatter3d\": [{\"line\": {\"colorbar\": {\"outlinewidth\": 0, \"ticks\": \"\"}}, \"marker\": {\"colorbar\": {\"outlinewidth\": 0, \"ticks\": \"\"}}, \"type\": \"scatter3d\"}], \"scattercarpet\": [{\"marker\": {\"colorbar\": {\"outlinewidth\": 0, \"ticks\": \"\"}}, \"type\": \"scattercarpet\"}], \"scattergeo\": [{\"marker\": {\"colorbar\": {\"outlinewidth\": 0, \"ticks\": \"\"}}, \"type\": \"scattergeo\"}], \"scattergl\": [{\"marker\": {\"colorbar\": {\"outlinewidth\": 0, \"ticks\": \"\"}}, \"type\": \"scattergl\"}], \"scattermapbox\": [{\"marker\": {\"colorbar\": {\"outlinewidth\": 0, \"ticks\": \"\"}}, \"type\": \"scattermapbox\"}], \"scatterpolar\": [{\"marker\": {\"colorbar\": {\"outlinewidth\": 0, \"ticks\": \"\"}}, \"type\": \"scatterpolar\"}], \"scatterpolargl\": [{\"marker\": {\"colorbar\": {\"outlinewidth\": 0, \"ticks\": \"\"}}, \"type\": \"scatterpolargl\"}], \"scatterternary\": [{\"marker\": {\"colorbar\": {\"outlinewidth\": 0, \"ticks\": \"\"}}, \"type\": \"scatterternary\"}], \"surface\": [{\"colorbar\": {\"outlinewidth\": 0, \"ticks\": \"\"}, \"colorscale\": [[0.0, \"#0d0887\"], [0.1111111111111111, \"#46039f\"], [0.2222222222222222, \"#7201a8\"], [0.3333333333333333, \"#9c179e\"], [0.4444444444444444, \"#bd3786\"], [0.5555555555555556, \"#d8576b\"], [0.6666666666666666, \"#ed7953\"], [0.7777777777777778, \"#fb9f3a\"], [0.8888888888888888, \"#fdca26\"], [1.0, \"#f0f921\"]], \"type\": \"surface\"}], \"table\": [{\"cells\": {\"fill\": {\"color\": \"#EBF0F8\"}, \"line\": {\"color\": \"white\"}}, \"header\": {\"fill\": {\"color\": \"#C8D4E3\"}, \"line\": {\"color\": \"white\"}}, \"type\": \"table\"}]}, \"layout\": {\"annotationdefaults\": {\"arrowcolor\": \"#2a3f5f\", \"arrowhead\": 0, \"arrowwidth\": 1}, \"coloraxis\": {\"colorbar\": {\"outlinewidth\": 0, \"ticks\": \"\"}}, \"colorscale\": {\"diverging\": [[0, \"#8e0152\"], [0.1, \"#c51b7d\"], [0.2, \"#de77ae\"], [0.3, \"#f1b6da\"], [0.4, \"#fde0ef\"], [0.5, \"#f7f7f7\"], [0.6, \"#e6f5d0\"], [0.7, \"#b8e186\"], [0.8, \"#7fbc41\"], [0.9, \"#4d9221\"], [1, \"#276419\"]], \"sequential\": [[0.0, \"#0d0887\"], [0.1111111111111111, \"#46039f\"], [0.2222222222222222, \"#7201a8\"], [0.3333333333333333, \"#9c179e\"], [0.4444444444444444, \"#bd3786\"], [0.5555555555555556, \"#d8576b\"], [0.6666666666666666, \"#ed7953\"], [0.7777777777777778, \"#fb9f3a\"], [0.8888888888888888, \"#fdca26\"], [1.0, \"#f0f921\"]], \"sequentialminus\": [[0.0, \"#0d0887\"], [0.1111111111111111, \"#46039f\"], [0.2222222222222222, \"#7201a8\"], [0.3333333333333333, \"#9c179e\"], [0.4444444444444444, \"#bd3786\"], [0.5555555555555556, \"#d8576b\"], [0.6666666666666666, \"#ed7953\"], [0.7777777777777778, \"#fb9f3a\"], [0.8888888888888888, \"#fdca26\"], [1.0, \"#f0f921\"]]}, \"colorway\": [\"#636efa\", \"#EF553B\", \"#00cc96\", \"#ab63fa\", \"#FFA15A\", \"#19d3f3\", \"#FF6692\", \"#B6E880\", \"#FF97FF\", \"#FECB52\"], \"font\": {\"color\": \"#2a3f5f\"}, \"geo\": {\"bgcolor\": \"white\", \"lakecolor\": \"white\", \"landcolor\": \"#E5ECF6\", \"showlakes\": true, \"showland\": true, \"subunitcolor\": \"white\"}, \"hoverlabel\": {\"align\": \"left\"}, \"hovermode\": \"closest\", \"mapbox\": {\"style\": \"light\"}, \"paper_bgcolor\": \"white\", \"plot_bgcolor\": \"#E5ECF6\", \"polar\": {\"angularaxis\": {\"gridcolor\": \"white\", \"linecolor\": \"white\", \"ticks\": \"\"}, \"bgcolor\": \"#E5ECF6\", \"radialaxis\": {\"gridcolor\": \"white\", \"linecolor\": \"white\", \"ticks\": \"\"}}, \"scene\": {\"xaxis\": {\"backgroundcolor\": \"#E5ECF6\", \"gridcolor\": \"white\", \"gridwidth\": 2, \"linecolor\": \"white\", \"showbackground\": true, \"ticks\": \"\", \"zerolinecolor\": \"white\"}, \"yaxis\": {\"backgroundcolor\": \"#E5ECF6\", \"gridcolor\": \"white\", \"gridwidth\": 2, \"linecolor\": \"white\", \"showbackground\": true, \"ticks\": \"\", \"zerolinecolor\": \"white\"}, \"zaxis\": {\"backgroundcolor\": \"#E5ECF6\", \"gridcolor\": \"white\", \"gridwidth\": 2, \"linecolor\": \"white\", \"showbackground\": true, \"ticks\": \"\", \"zerolinecolor\": \"white\"}}, \"shapedefaults\": {\"line\": {\"color\": \"#2a3f5f\"}}, \"ternary\": {\"aaxis\": {\"gridcolor\": \"white\", \"linecolor\": \"white\", \"ticks\": \"\"}, \"baxis\": {\"gridcolor\": \"white\", \"linecolor\": \"white\", \"ticks\": \"\"}, \"bgcolor\": \"#E5ECF6\", \"caxis\": {\"gridcolor\": \"white\", \"linecolor\": \"white\", \"ticks\": \"\"}}, \"title\": {\"x\": 0.05}, \"xaxis\": {\"automargin\": true, \"gridcolor\": \"white\", \"linecolor\": \"white\", \"ticks\": \"\", \"title\": {\"standoff\": 15}, \"zerolinecolor\": \"white\", \"zerolinewidth\": 2}, \"yaxis\": {\"automargin\": true, \"gridcolor\": \"white\", \"linecolor\": \"white\", \"ticks\": \"\", \"title\": {\"standoff\": 15}, \"zerolinecolor\": \"white\", \"zerolinewidth\": 2}}}, \"title\": {\"text\": \"Logistic Regression Metrics and Fraction %\", \"x\": 0.45, \"xanchor\": \"center\", \"y\": 0.95, \"yanchor\": \"top\"}, \"xaxis\": {\"anchor\": \"y\", \"domain\": [0.0, 1.0], \"title\": {\"text\": \"Fraction %\"}}, \"yaxis\": {\"anchor\": \"x\", \"domain\": [0.0, 1.0], \"range\": [0, 1], \"title\": {\"text\": \"Score\"}}},\n",
       "                        {\"responsive\": true}\n",
       "                    ).then(function(){\n",
       "                            \n",
       "var gd = document.getElementById('6834abe4-46d6-4320-b168-b47da48d5aea');\n",
       "var x = new MutationObserver(function (mutations, observer) {{\n",
       "        var display = window.getComputedStyle(gd).display;\n",
       "        if (!display || display === 'none') {{\n",
       "            console.log([gd, 'removed!']);\n",
       "            Plotly.purge(gd);\n",
       "            observer.disconnect();\n",
       "        }}\n",
       "}});\n",
       "\n",
       "// Listen for the removal of the full notebook cells\n",
       "var notebookContainer = gd.closest('#notebook-container');\n",
       "if (notebookContainer) {{\n",
       "    x.observe(notebookContainer, {childList: true});\n",
       "}}\n",
       "\n",
       "// Listen for the clearing of the current output cell\n",
       "var outputEl = gd.closest('.output');\n",
       "if (outputEl) {{\n",
       "    x.observe(outputEl, {childList: true});\n",
       "}}\n",
       "\n",
       "                        })\n",
       "                };\n",
       "                });\n",
       "            </script>\n",
       "        </div>"
      ]
     },
     "metadata": {},
     "output_type": "display_data"
    },
    {
     "name": "stdout",
     "output_type": "stream",
     "text": [
      "Best Model: Isolation Forest | Fraction %: 0.07 | Accuracy : 0.9623\n"
     ]
    }
   ],
   "source": [
    "tuned_iforest = tune_model(model = 'iforest', supervised_target = 'label')"
   ]
  },
  {
   "cell_type": "markdown",
   "metadata": {},
   "source": [
    "ASSIGNING MODEL"
   ]
  },
  {
   "cell_type": "code",
   "execution_count": 13,
   "metadata": {},
   "outputs": [
    {
     "data": {
      "text/html": [
       "<div>\n",
       "<style scoped>\n",
       "    .dataframe tbody tr th:only-of-type {\n",
       "        vertical-align: middle;\n",
       "    }\n",
       "\n",
       "    .dataframe tbody tr th {\n",
       "        vertical-align: top;\n",
       "    }\n",
       "\n",
       "    .dataframe thead th {\n",
       "        text-align: right;\n",
       "    }\n",
       "</style>\n",
       "<table border=\"1\" class=\"dataframe\">\n",
       "  <thead>\n",
       "    <tr style=\"text-align: right;\">\n",
       "      <th></th>\n",
       "      <th>PM 2.5</th>\n",
       "      <th>temp</th>\n",
       "      <th>pressure</th>\n",
       "      <th>humidity</th>\n",
       "      <th>wind_speed</th>\n",
       "      <th>Time of Day</th>\n",
       "      <th>Peak/NoPeak</th>\n",
       "      <th>Day</th>\n",
       "      <th>Week Day</th>\n",
       "      <th>Weather</th>\n",
       "      <th>Weather Description</th>\n",
       "      <th>label</th>\n",
       "      <th>Label</th>\n",
       "      <th>Score</th>\n",
       "    </tr>\n",
       "    <tr>\n",
       "      <th>Time_stamp</th>\n",
       "      <th></th>\n",
       "      <th></th>\n",
       "      <th></th>\n",
       "      <th></th>\n",
       "      <th></th>\n",
       "      <th></th>\n",
       "      <th></th>\n",
       "      <th></th>\n",
       "      <th></th>\n",
       "      <th></th>\n",
       "      <th></th>\n",
       "      <th></th>\n",
       "      <th></th>\n",
       "      <th></th>\n",
       "    </tr>\n",
       "  </thead>\n",
       "  <tbody>\n",
       "    <tr>\n",
       "      <th>2018-12-31 18:30:53</th>\n",
       "      <td>139.63</td>\n",
       "      <td>7.71</td>\n",
       "      <td>1032</td>\n",
       "      <td>100</td>\n",
       "      <td>3.09</td>\n",
       "      <td>Evening_Hours</td>\n",
       "      <td>Peak</td>\n",
       "      <td>Monday</td>\n",
       "      <td>Workday</td>\n",
       "      <td>Clouds</td>\n",
       "      <td>broken clouds</td>\n",
       "      <td>abnormal</td>\n",
       "      <td>0</td>\n",
       "      <td>-0.011101</td>\n",
       "    </tr>\n",
       "    <tr>\n",
       "      <th>2018-12-31 18:35:01</th>\n",
       "      <td>136.43</td>\n",
       "      <td>7.71</td>\n",
       "      <td>1032</td>\n",
       "      <td>100</td>\n",
       "      <td>3.09</td>\n",
       "      <td>Evening_Hours</td>\n",
       "      <td>Peak</td>\n",
       "      <td>Monday</td>\n",
       "      <td>Workday</td>\n",
       "      <td>Clouds</td>\n",
       "      <td>broken clouds</td>\n",
       "      <td>abnormal</td>\n",
       "      <td>0</td>\n",
       "      <td>-0.011101</td>\n",
       "    </tr>\n",
       "    <tr>\n",
       "      <th>2018-12-31 18:39:09</th>\n",
       "      <td>112.67</td>\n",
       "      <td>7.71</td>\n",
       "      <td>1032</td>\n",
       "      <td>100</td>\n",
       "      <td>3.09</td>\n",
       "      <td>Evening_Hours</td>\n",
       "      <td>Peak</td>\n",
       "      <td>Monday</td>\n",
       "      <td>Workday</td>\n",
       "      <td>Clouds</td>\n",
       "      <td>broken clouds</td>\n",
       "      <td>abnormal</td>\n",
       "      <td>0</td>\n",
       "      <td>-0.011101</td>\n",
       "    </tr>\n",
       "    <tr>\n",
       "      <th>2018-12-31 18:43:17</th>\n",
       "      <td>46.87</td>\n",
       "      <td>7.71</td>\n",
       "      <td>1032</td>\n",
       "      <td>100</td>\n",
       "      <td>3.09</td>\n",
       "      <td>Evening_Hours</td>\n",
       "      <td>Peak</td>\n",
       "      <td>Monday</td>\n",
       "      <td>Workday</td>\n",
       "      <td>Clouds</td>\n",
       "      <td>broken clouds</td>\n",
       "      <td>abnormal</td>\n",
       "      <td>0</td>\n",
       "      <td>-0.014319</td>\n",
       "    </tr>\n",
       "    <tr>\n",
       "      <th>2018-12-31 18:47:24</th>\n",
       "      <td>38.30</td>\n",
       "      <td>7.71</td>\n",
       "      <td>1032</td>\n",
       "      <td>100</td>\n",
       "      <td>3.09</td>\n",
       "      <td>Evening_Hours</td>\n",
       "      <td>Peak</td>\n",
       "      <td>Monday</td>\n",
       "      <td>Workday</td>\n",
       "      <td>Clouds</td>\n",
       "      <td>broken clouds</td>\n",
       "      <td>abnormal</td>\n",
       "      <td>0</td>\n",
       "      <td>-0.016436</td>\n",
       "    </tr>\n",
       "    <tr>\n",
       "      <th>...</th>\n",
       "      <td>...</td>\n",
       "      <td>...</td>\n",
       "      <td>...</td>\n",
       "      <td>...</td>\n",
       "      <td>...</td>\n",
       "      <td>...</td>\n",
       "      <td>...</td>\n",
       "      <td>...</td>\n",
       "      <td>...</td>\n",
       "      <td>...</td>\n",
       "      <td>...</td>\n",
       "      <td>...</td>\n",
       "      <td>...</td>\n",
       "      <td>...</td>\n",
       "    </tr>\n",
       "    <tr>\n",
       "      <th>2020-02-28 18:11:12</th>\n",
       "      <td>3.93</td>\n",
       "      <td>6.00</td>\n",
       "      <td>1013</td>\n",
       "      <td>56</td>\n",
       "      <td>3.60</td>\n",
       "      <td>Evening_Hours</td>\n",
       "      <td>Peak</td>\n",
       "      <td>Friday</td>\n",
       "      <td>Workday</td>\n",
       "      <td>Clear</td>\n",
       "      <td>sky is clear</td>\n",
       "      <td>normal</td>\n",
       "      <td>0</td>\n",
       "      <td>-0.021097</td>\n",
       "    </tr>\n",
       "    <tr>\n",
       "      <th>2020-02-28 18:14:31</th>\n",
       "      <td>4.33</td>\n",
       "      <td>6.00</td>\n",
       "      <td>1013</td>\n",
       "      <td>56</td>\n",
       "      <td>3.60</td>\n",
       "      <td>Evening_Hours</td>\n",
       "      <td>Peak</td>\n",
       "      <td>Friday</td>\n",
       "      <td>Workday</td>\n",
       "      <td>Clear</td>\n",
       "      <td>sky is clear</td>\n",
       "      <td>normal</td>\n",
       "      <td>0</td>\n",
       "      <td>-0.021097</td>\n",
       "    </tr>\n",
       "    <tr>\n",
       "      <th>2020-02-28 18:21:01</th>\n",
       "      <td>3.93</td>\n",
       "      <td>6.00</td>\n",
       "      <td>1013</td>\n",
       "      <td>56</td>\n",
       "      <td>3.60</td>\n",
       "      <td>Evening_Hours</td>\n",
       "      <td>Peak</td>\n",
       "      <td>Friday</td>\n",
       "      <td>Workday</td>\n",
       "      <td>Clear</td>\n",
       "      <td>sky is clear</td>\n",
       "      <td>normal</td>\n",
       "      <td>0</td>\n",
       "      <td>-0.021097</td>\n",
       "    </tr>\n",
       "    <tr>\n",
       "      <th>2020-02-28 18:24:01</th>\n",
       "      <td>4.10</td>\n",
       "      <td>6.00</td>\n",
       "      <td>1013</td>\n",
       "      <td>56</td>\n",
       "      <td>3.60</td>\n",
       "      <td>Evening_Hours</td>\n",
       "      <td>Peak</td>\n",
       "      <td>Friday</td>\n",
       "      <td>Workday</td>\n",
       "      <td>Clear</td>\n",
       "      <td>sky is clear</td>\n",
       "      <td>normal</td>\n",
       "      <td>0</td>\n",
       "      <td>-0.021097</td>\n",
       "    </tr>\n",
       "    <tr>\n",
       "      <th>2020-02-28 18:27:11</th>\n",
       "      <td>4.40</td>\n",
       "      <td>6.00</td>\n",
       "      <td>1013</td>\n",
       "      <td>56</td>\n",
       "      <td>3.60</td>\n",
       "      <td>Evening_Hours</td>\n",
       "      <td>Peak</td>\n",
       "      <td>Friday</td>\n",
       "      <td>Workday</td>\n",
       "      <td>Clear</td>\n",
       "      <td>sky is clear</td>\n",
       "      <td>normal</td>\n",
       "      <td>0</td>\n",
       "      <td>-0.021097</td>\n",
       "    </tr>\n",
       "  </tbody>\n",
       "</table>\n",
       "<p>162173 rows × 14 columns</p>\n",
       "</div>"
      ],
      "text/plain": [
       "                     PM 2.5  temp  pressure  humidity  wind_speed  \\\n",
       "Time_stamp                                                          \n",
       "2018-12-31 18:30:53  139.63  7.71      1032       100        3.09   \n",
       "2018-12-31 18:35:01  136.43  7.71      1032       100        3.09   \n",
       "2018-12-31 18:39:09  112.67  7.71      1032       100        3.09   \n",
       "2018-12-31 18:43:17   46.87  7.71      1032       100        3.09   \n",
       "2018-12-31 18:47:24   38.30  7.71      1032       100        3.09   \n",
       "...                     ...   ...       ...       ...         ...   \n",
       "2020-02-28 18:11:12    3.93  6.00      1013        56        3.60   \n",
       "2020-02-28 18:14:31    4.33  6.00      1013        56        3.60   \n",
       "2020-02-28 18:21:01    3.93  6.00      1013        56        3.60   \n",
       "2020-02-28 18:24:01    4.10  6.00      1013        56        3.60   \n",
       "2020-02-28 18:27:11    4.40  6.00      1013        56        3.60   \n",
       "\n",
       "                       Time of Day Peak/NoPeak     Day Week Day Weather  \\\n",
       "Time_stamp                                                                \n",
       "2018-12-31 18:30:53  Evening_Hours        Peak  Monday  Workday  Clouds   \n",
       "2018-12-31 18:35:01  Evening_Hours        Peak  Monday  Workday  Clouds   \n",
       "2018-12-31 18:39:09  Evening_Hours        Peak  Monday  Workday  Clouds   \n",
       "2018-12-31 18:43:17  Evening_Hours        Peak  Monday  Workday  Clouds   \n",
       "2018-12-31 18:47:24  Evening_Hours        Peak  Monday  Workday  Clouds   \n",
       "...                            ...         ...     ...      ...     ...   \n",
       "2020-02-28 18:11:12  Evening_Hours        Peak  Friday  Workday   Clear   \n",
       "2020-02-28 18:14:31  Evening_Hours        Peak  Friday  Workday   Clear   \n",
       "2020-02-28 18:21:01  Evening_Hours        Peak  Friday  Workday   Clear   \n",
       "2020-02-28 18:24:01  Evening_Hours        Peak  Friday  Workday   Clear   \n",
       "2020-02-28 18:27:11  Evening_Hours        Peak  Friday  Workday   Clear   \n",
       "\n",
       "                    Weather Description     label  Label     Score  \n",
       "Time_stamp                                                          \n",
       "2018-12-31 18:30:53       broken clouds  abnormal      0 -0.011101  \n",
       "2018-12-31 18:35:01       broken clouds  abnormal      0 -0.011101  \n",
       "2018-12-31 18:39:09       broken clouds  abnormal      0 -0.011101  \n",
       "2018-12-31 18:43:17       broken clouds  abnormal      0 -0.014319  \n",
       "2018-12-31 18:47:24       broken clouds  abnormal      0 -0.016436  \n",
       "...                                 ...       ...    ...       ...  \n",
       "2020-02-28 18:11:12        sky is clear    normal      0 -0.021097  \n",
       "2020-02-28 18:14:31        sky is clear    normal      0 -0.021097  \n",
       "2020-02-28 18:21:01        sky is clear    normal      0 -0.021097  \n",
       "2020-02-28 18:24:01        sky is clear    normal      0 -0.021097  \n",
       "2020-02-28 18:27:11        sky is clear    normal      0 -0.021097  \n",
       "\n",
       "[162173 rows x 14 columns]"
      ]
     },
     "execution_count": 13,
     "metadata": {},
     "output_type": "execute_result"
    }
   ],
   "source": [
    "iforest_df1 = assign_model(tuned_iforest)\n",
    "iforest_df1"
   ]
  },
  {
   "cell_type": "markdown",
   "metadata": {},
   "source": [
    "CONVERTING LABELS"
   ]
  },
  {
   "cell_type": "code",
   "execution_count": 14,
   "metadata": {},
   "outputs": [
    {
     "name": "stdout",
     "output_type": "stream",
     "text": [
      "162173\n"
     ]
    }
   ],
   "source": [
    "idf = iforest_df1['Label']\n",
    "ll = []\n",
    "for i in idf:\n",
    "    if i == 0:\n",
    "        ll.append('normal')\n",
    "    else:\n",
    "        ll.append('abnormal')\n",
    "\n",
    "print(len(ll))"
   ]
  },
  {
   "cell_type": "markdown",
   "metadata": {},
   "source": [
    "## EVALUATION OF TUNED MODEL\n",
    "CALCULATING ACCURACY, PRECISION, RECALL AND F1-SCORE\n",
    "\n",
    "BAD RESULTS"
   ]
  },
  {
   "cell_type": "code",
   "execution_count": 15,
   "metadata": {},
   "outputs": [
    {
     "name": "stdout",
     "output_type": "stream",
     "text": [
      "Accuracy: 0.888557\n",
      "Precision: 0.117974\n",
      "Recall: 0.091590\n",
      "F1 score: 0.103121\n"
     ]
    }
   ],
   "source": [
    "from sklearn.metrics import accuracy_score, precision_score, recall_score, f1_score\n",
    "\n",
    "obt_label = ll\n",
    "gold_label = ff['label']\n",
    "testy = obt_label\n",
    "yhat_classes = gold_label\n",
    "\n",
    "# accuracy: (tp + tn) / (p + n)\n",
    "accuracy = accuracy_score(testy, yhat_classes)\n",
    "print('Accuracy: %f' % accuracy)\n",
    "# precision tp / (tp + fp)\n",
    "precision = precision_score(testy, yhat_classes, pos_label = 'abnormal')\n",
    "print('Precision: %f' % precision)\n",
    "# recall: tp / (tp + fn)\n",
    "recall = recall_score(testy, yhat_classes, pos_label = 'abnormal')\n",
    "print('Recall: %f' % recall)\n",
    "# f1: 2 tp / (2 tp + fp + fn)\n",
    "f1 = f1_score(testy, yhat_classes, pos_label = 'abnormal')\n",
    "print('F1 score: %f' % f1)"
   ]
  }
 ],
 "metadata": {
  "kernelspec": {
   "display_name": "Python 3",
   "language": "python",
   "name": "python3"
  },
  "language_info": {
   "codemirror_mode": {
    "name": "ipython",
    "version": 3
   },
   "file_extension": ".py",
   "mimetype": "text/x-python",
   "name": "python",
   "nbconvert_exporter": "python",
   "pygments_lexer": "ipython3",
   "version": "3.7.6"
  }
 },
 "nbformat": 4,
 "nbformat_minor": 4
}
