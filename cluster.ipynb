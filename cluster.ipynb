{
 "cells": [
  {
   "cell_type": "markdown",
   "metadata": {},
   "source": [
    "# CLUSTERING \n",
    "### CLUSTERING BASED ANOMALY DETECTION\n",
    "\n",
    "ANOMALY DETECTION WITH THE HELP OF CLUSTERING METHOD\n",
    "\n",
    "#### DATASET : AIRQUALITY DATA\n",
    "#### AUTHOR: AVINASH BAGUL"
   ]
  },
  {
   "cell_type": "markdown",
   "metadata": {},
   "source": [
    "IMPORT REQUIRED LIBRARIES"
   ]
  },
  {
   "cell_type": "code",
   "execution_count": 1,
   "metadata": {},
   "outputs": [],
   "source": [
    "import pycaret\n",
    "import pandas as pd\n",
    "import numpy as np"
   ]
  },
  {
   "cell_type": "markdown",
   "metadata": {},
   "source": [
    "READING DATASET"
   ]
  },
  {
   "cell_type": "code",
   "execution_count": 2,
   "metadata": {},
   "outputs": [],
   "source": [
    "df1 = pd.read_csv('iqr_benchmark.csv')\n",
    "df = df1[df1['boxName']=='Bernem']\n",
    "df = df.set_index('Time_stamp')\n",
    "df = df.drop(df.iloc[:,0:1], axis = 1)\n",
    "df = df.drop(df.iloc[:,-1:], axis = 1)"
   ]
  },
  {
   "cell_type": "markdown",
   "metadata": {},
   "source": [
    "DATASET FEATURES COUNT DESCRIPTION"
   ]
  },
  {
   "cell_type": "code",
   "execution_count": 3,
   "metadata": {},
   "outputs": [
    {
     "data": {
      "text/plain": [
       "PM 2.5                 2480\n",
       "temp                   3067\n",
       "pressure                 71\n",
       "humidity                 87\n",
       "wind_speed               84\n",
       "Time of Day               4\n",
       "Peak/NoPeak               2\n",
       "Day                       7\n",
       "Week Day                  2\n",
       "Weather                  23\n",
       "Weather Description      68\n",
       "dtype: int64"
      ]
     },
     "execution_count": 3,
     "metadata": {},
     "output_type": "execute_result"
    }
   ],
   "source": [
    "df.nunique()"
   ]
  },
  {
   "cell_type": "markdown",
   "metadata": {},
   "source": [
    "DATAFRAME"
   ]
  },
  {
   "cell_type": "code",
   "execution_count": 4,
   "metadata": {},
   "outputs": [
    {
     "data": {
      "text/html": [
       "<div>\n",
       "<style scoped>\n",
       "    .dataframe tbody tr th:only-of-type {\n",
       "        vertical-align: middle;\n",
       "    }\n",
       "\n",
       "    .dataframe tbody tr th {\n",
       "        vertical-align: top;\n",
       "    }\n",
       "\n",
       "    .dataframe thead th {\n",
       "        text-align: right;\n",
       "    }\n",
       "</style>\n",
       "<table border=\"1\" class=\"dataframe\">\n",
       "  <thead>\n",
       "    <tr style=\"text-align: right;\">\n",
       "      <th></th>\n",
       "      <th>PM 2.5</th>\n",
       "      <th>temp</th>\n",
       "      <th>pressure</th>\n",
       "      <th>humidity</th>\n",
       "      <th>wind_speed</th>\n",
       "      <th>Time of Day</th>\n",
       "      <th>Peak/NoPeak</th>\n",
       "      <th>Day</th>\n",
       "      <th>Week Day</th>\n",
       "      <th>Weather</th>\n",
       "      <th>Weather Description</th>\n",
       "    </tr>\n",
       "    <tr>\n",
       "      <th>Time_stamp</th>\n",
       "      <th></th>\n",
       "      <th></th>\n",
       "      <th></th>\n",
       "      <th></th>\n",
       "      <th></th>\n",
       "      <th></th>\n",
       "      <th></th>\n",
       "      <th></th>\n",
       "      <th></th>\n",
       "      <th></th>\n",
       "      <th></th>\n",
       "    </tr>\n",
       "  </thead>\n",
       "  <tbody>\n",
       "    <tr>\n",
       "      <th>2018-12-31 18:30:53</th>\n",
       "      <td>139.63</td>\n",
       "      <td>7.71</td>\n",
       "      <td>1032</td>\n",
       "      <td>100</td>\n",
       "      <td>3.09</td>\n",
       "      <td>Evening_Hours</td>\n",
       "      <td>Peak</td>\n",
       "      <td>Monday</td>\n",
       "      <td>Workday</td>\n",
       "      <td>Clouds</td>\n",
       "      <td>broken clouds</td>\n",
       "    </tr>\n",
       "    <tr>\n",
       "      <th>2018-12-31 18:35:01</th>\n",
       "      <td>136.43</td>\n",
       "      <td>7.71</td>\n",
       "      <td>1032</td>\n",
       "      <td>100</td>\n",
       "      <td>3.09</td>\n",
       "      <td>Evening_Hours</td>\n",
       "      <td>Peak</td>\n",
       "      <td>Monday</td>\n",
       "      <td>Workday</td>\n",
       "      <td>Clouds</td>\n",
       "      <td>broken clouds</td>\n",
       "    </tr>\n",
       "    <tr>\n",
       "      <th>2018-12-31 18:39:09</th>\n",
       "      <td>112.67</td>\n",
       "      <td>7.71</td>\n",
       "      <td>1032</td>\n",
       "      <td>100</td>\n",
       "      <td>3.09</td>\n",
       "      <td>Evening_Hours</td>\n",
       "      <td>Peak</td>\n",
       "      <td>Monday</td>\n",
       "      <td>Workday</td>\n",
       "      <td>Clouds</td>\n",
       "      <td>broken clouds</td>\n",
       "    </tr>\n",
       "    <tr>\n",
       "      <th>2018-12-31 18:43:17</th>\n",
       "      <td>46.87</td>\n",
       "      <td>7.71</td>\n",
       "      <td>1032</td>\n",
       "      <td>100</td>\n",
       "      <td>3.09</td>\n",
       "      <td>Evening_Hours</td>\n",
       "      <td>Peak</td>\n",
       "      <td>Monday</td>\n",
       "      <td>Workday</td>\n",
       "      <td>Clouds</td>\n",
       "      <td>broken clouds</td>\n",
       "    </tr>\n",
       "    <tr>\n",
       "      <th>2018-12-31 18:47:24</th>\n",
       "      <td>38.30</td>\n",
       "      <td>7.71</td>\n",
       "      <td>1032</td>\n",
       "      <td>100</td>\n",
       "      <td>3.09</td>\n",
       "      <td>Evening_Hours</td>\n",
       "      <td>Peak</td>\n",
       "      <td>Monday</td>\n",
       "      <td>Workday</td>\n",
       "      <td>Clouds</td>\n",
       "      <td>broken clouds</td>\n",
       "    </tr>\n",
       "    <tr>\n",
       "      <th>...</th>\n",
       "      <td>...</td>\n",
       "      <td>...</td>\n",
       "      <td>...</td>\n",
       "      <td>...</td>\n",
       "      <td>...</td>\n",
       "      <td>...</td>\n",
       "      <td>...</td>\n",
       "      <td>...</td>\n",
       "      <td>...</td>\n",
       "      <td>...</td>\n",
       "      <td>...</td>\n",
       "    </tr>\n",
       "    <tr>\n",
       "      <th>2020-02-28 18:11:12</th>\n",
       "      <td>3.93</td>\n",
       "      <td>6.00</td>\n",
       "      <td>1013</td>\n",
       "      <td>56</td>\n",
       "      <td>3.60</td>\n",
       "      <td>Evening_Hours</td>\n",
       "      <td>Peak</td>\n",
       "      <td>Friday</td>\n",
       "      <td>Workday</td>\n",
       "      <td>Clear</td>\n",
       "      <td>sky is clear</td>\n",
       "    </tr>\n",
       "    <tr>\n",
       "      <th>2020-02-28 18:14:31</th>\n",
       "      <td>4.33</td>\n",
       "      <td>6.00</td>\n",
       "      <td>1013</td>\n",
       "      <td>56</td>\n",
       "      <td>3.60</td>\n",
       "      <td>Evening_Hours</td>\n",
       "      <td>Peak</td>\n",
       "      <td>Friday</td>\n",
       "      <td>Workday</td>\n",
       "      <td>Clear</td>\n",
       "      <td>sky is clear</td>\n",
       "    </tr>\n",
       "    <tr>\n",
       "      <th>2020-02-28 18:21:01</th>\n",
       "      <td>3.93</td>\n",
       "      <td>6.00</td>\n",
       "      <td>1013</td>\n",
       "      <td>56</td>\n",
       "      <td>3.60</td>\n",
       "      <td>Evening_Hours</td>\n",
       "      <td>Peak</td>\n",
       "      <td>Friday</td>\n",
       "      <td>Workday</td>\n",
       "      <td>Clear</td>\n",
       "      <td>sky is clear</td>\n",
       "    </tr>\n",
       "    <tr>\n",
       "      <th>2020-02-28 18:24:01</th>\n",
       "      <td>4.10</td>\n",
       "      <td>6.00</td>\n",
       "      <td>1013</td>\n",
       "      <td>56</td>\n",
       "      <td>3.60</td>\n",
       "      <td>Evening_Hours</td>\n",
       "      <td>Peak</td>\n",
       "      <td>Friday</td>\n",
       "      <td>Workday</td>\n",
       "      <td>Clear</td>\n",
       "      <td>sky is clear</td>\n",
       "    </tr>\n",
       "    <tr>\n",
       "      <th>2020-02-28 18:27:11</th>\n",
       "      <td>4.40</td>\n",
       "      <td>6.00</td>\n",
       "      <td>1013</td>\n",
       "      <td>56</td>\n",
       "      <td>3.60</td>\n",
       "      <td>Evening_Hours</td>\n",
       "      <td>Peak</td>\n",
       "      <td>Friday</td>\n",
       "      <td>Workday</td>\n",
       "      <td>Clear</td>\n",
       "      <td>sky is clear</td>\n",
       "    </tr>\n",
       "  </tbody>\n",
       "</table>\n",
       "<p>162173 rows × 11 columns</p>\n",
       "</div>"
      ],
      "text/plain": [
       "                     PM 2.5  temp  pressure  humidity  wind_speed  \\\n",
       "Time_stamp                                                          \n",
       "2018-12-31 18:30:53  139.63  7.71      1032       100        3.09   \n",
       "2018-12-31 18:35:01  136.43  7.71      1032       100        3.09   \n",
       "2018-12-31 18:39:09  112.67  7.71      1032       100        3.09   \n",
       "2018-12-31 18:43:17   46.87  7.71      1032       100        3.09   \n",
       "2018-12-31 18:47:24   38.30  7.71      1032       100        3.09   \n",
       "...                     ...   ...       ...       ...         ...   \n",
       "2020-02-28 18:11:12    3.93  6.00      1013        56        3.60   \n",
       "2020-02-28 18:14:31    4.33  6.00      1013        56        3.60   \n",
       "2020-02-28 18:21:01    3.93  6.00      1013        56        3.60   \n",
       "2020-02-28 18:24:01    4.10  6.00      1013        56        3.60   \n",
       "2020-02-28 18:27:11    4.40  6.00      1013        56        3.60   \n",
       "\n",
       "                       Time of Day Peak/NoPeak     Day Week Day Weather  \\\n",
       "Time_stamp                                                                \n",
       "2018-12-31 18:30:53  Evening_Hours        Peak  Monday  Workday  Clouds   \n",
       "2018-12-31 18:35:01  Evening_Hours        Peak  Monday  Workday  Clouds   \n",
       "2018-12-31 18:39:09  Evening_Hours        Peak  Monday  Workday  Clouds   \n",
       "2018-12-31 18:43:17  Evening_Hours        Peak  Monday  Workday  Clouds   \n",
       "2018-12-31 18:47:24  Evening_Hours        Peak  Monday  Workday  Clouds   \n",
       "...                            ...         ...     ...      ...     ...   \n",
       "2020-02-28 18:11:12  Evening_Hours        Peak  Friday  Workday   Clear   \n",
       "2020-02-28 18:14:31  Evening_Hours        Peak  Friday  Workday   Clear   \n",
       "2020-02-28 18:21:01  Evening_Hours        Peak  Friday  Workday   Clear   \n",
       "2020-02-28 18:24:01  Evening_Hours        Peak  Friday  Workday   Clear   \n",
       "2020-02-28 18:27:11  Evening_Hours        Peak  Friday  Workday   Clear   \n",
       "\n",
       "                    Weather Description  \n",
       "Time_stamp                               \n",
       "2018-12-31 18:30:53       broken clouds  \n",
       "2018-12-31 18:35:01       broken clouds  \n",
       "2018-12-31 18:39:09       broken clouds  \n",
       "2018-12-31 18:43:17       broken clouds  \n",
       "2018-12-31 18:47:24       broken clouds  \n",
       "...                                 ...  \n",
       "2020-02-28 18:11:12        sky is clear  \n",
       "2020-02-28 18:14:31        sky is clear  \n",
       "2020-02-28 18:21:01        sky is clear  \n",
       "2020-02-28 18:24:01        sky is clear  \n",
       "2020-02-28 18:27:11        sky is clear  \n",
       "\n",
       "[162173 rows x 11 columns]"
      ]
     },
     "execution_count": 4,
     "metadata": {},
     "output_type": "execute_result"
    }
   ],
   "source": [
    "df"
   ]
  },
  {
   "cell_type": "markdown",
   "metadata": {},
   "source": [
    "IMPORTING ANOMALY MODULE FROM PYCARET LIBRARY"
   ]
  },
  {
   "cell_type": "code",
   "execution_count": 5,
   "metadata": {},
   "outputs": [
    {
     "name": "stdout",
     "output_type": "stream",
     "text": [
      "\n",
      "Setup Succesfully Completed!\n"
     ]
    },
    {
     "data": {
      "text/html": [
       "<style  type=\"text/css\" >\n",
       "</style><table id=\"T_2c13cac8_e2af_11ea_960a_3497f69ae15b\" ><thead>    <tr>        <th class=\"blank level0\" ></th>        <th class=\"col_heading level0 col0\" >Description</th>        <th class=\"col_heading level0 col1\" >Value</th>    </tr></thead><tbody>\n",
       "                <tr>\n",
       "                        <th id=\"T_2c13cac8_e2af_11ea_960a_3497f69ae15blevel0_row0\" class=\"row_heading level0 row0\" >0</th>\n",
       "                        <td id=\"T_2c13cac8_e2af_11ea_960a_3497f69ae15brow0_col0\" class=\"data row0 col0\" >session_id </td>\n",
       "                        <td id=\"T_2c13cac8_e2af_11ea_960a_3497f69ae15brow0_col1\" class=\"data row0 col1\" >8605</td>\n",
       "            </tr>\n",
       "            <tr>\n",
       "                        <th id=\"T_2c13cac8_e2af_11ea_960a_3497f69ae15blevel0_row1\" class=\"row_heading level0 row1\" >1</th>\n",
       "                        <td id=\"T_2c13cac8_e2af_11ea_960a_3497f69ae15brow1_col0\" class=\"data row1 col0\" >Original Data </td>\n",
       "                        <td id=\"T_2c13cac8_e2af_11ea_960a_3497f69ae15brow1_col1\" class=\"data row1 col1\" >(162173, 11)</td>\n",
       "            </tr>\n",
       "            <tr>\n",
       "                        <th id=\"T_2c13cac8_e2af_11ea_960a_3497f69ae15blevel0_row2\" class=\"row_heading level0 row2\" >2</th>\n",
       "                        <td id=\"T_2c13cac8_e2af_11ea_960a_3497f69ae15brow2_col0\" class=\"data row2 col0\" >Missing Values </td>\n",
       "                        <td id=\"T_2c13cac8_e2af_11ea_960a_3497f69ae15brow2_col1\" class=\"data row2 col1\" >False</td>\n",
       "            </tr>\n",
       "            <tr>\n",
       "                        <th id=\"T_2c13cac8_e2af_11ea_960a_3497f69ae15blevel0_row3\" class=\"row_heading level0 row3\" >3</th>\n",
       "                        <td id=\"T_2c13cac8_e2af_11ea_960a_3497f69ae15brow3_col0\" class=\"data row3 col0\" >Numeric Features </td>\n",
       "                        <td id=\"T_2c13cac8_e2af_11ea_960a_3497f69ae15brow3_col1\" class=\"data row3 col1\" >5</td>\n",
       "            </tr>\n",
       "            <tr>\n",
       "                        <th id=\"T_2c13cac8_e2af_11ea_960a_3497f69ae15blevel0_row4\" class=\"row_heading level0 row4\" >4</th>\n",
       "                        <td id=\"T_2c13cac8_e2af_11ea_960a_3497f69ae15brow4_col0\" class=\"data row4 col0\" >Categorical Features </td>\n",
       "                        <td id=\"T_2c13cac8_e2af_11ea_960a_3497f69ae15brow4_col1\" class=\"data row4 col1\" >6</td>\n",
       "            </tr>\n",
       "            <tr>\n",
       "                        <th id=\"T_2c13cac8_e2af_11ea_960a_3497f69ae15blevel0_row5\" class=\"row_heading level0 row5\" >5</th>\n",
       "                        <td id=\"T_2c13cac8_e2af_11ea_960a_3497f69ae15brow5_col0\" class=\"data row5 col0\" >Ordinal Features </td>\n",
       "                        <td id=\"T_2c13cac8_e2af_11ea_960a_3497f69ae15brow5_col1\" class=\"data row5 col1\" >False</td>\n",
       "            </tr>\n",
       "            <tr>\n",
       "                        <th id=\"T_2c13cac8_e2af_11ea_960a_3497f69ae15blevel0_row6\" class=\"row_heading level0 row6\" >6</th>\n",
       "                        <td id=\"T_2c13cac8_e2af_11ea_960a_3497f69ae15brow6_col0\" class=\"data row6 col0\" >High Cardinality Features </td>\n",
       "                        <td id=\"T_2c13cac8_e2af_11ea_960a_3497f69ae15brow6_col1\" class=\"data row6 col1\" >False</td>\n",
       "            </tr>\n",
       "            <tr>\n",
       "                        <th id=\"T_2c13cac8_e2af_11ea_960a_3497f69ae15blevel0_row7\" class=\"row_heading level0 row7\" >7</th>\n",
       "                        <td id=\"T_2c13cac8_e2af_11ea_960a_3497f69ae15brow7_col0\" class=\"data row7 col0\" >Transformed Data </td>\n",
       "                        <td id=\"T_2c13cac8_e2af_11ea_960a_3497f69ae15brow7_col1\" class=\"data row7 col1\" >(162173, 111)</td>\n",
       "            </tr>\n",
       "            <tr>\n",
       "                        <th id=\"T_2c13cac8_e2af_11ea_960a_3497f69ae15blevel0_row8\" class=\"row_heading level0 row8\" >8</th>\n",
       "                        <td id=\"T_2c13cac8_e2af_11ea_960a_3497f69ae15brow8_col0\" class=\"data row8 col0\" >Numeric Imputer </td>\n",
       "                        <td id=\"T_2c13cac8_e2af_11ea_960a_3497f69ae15brow8_col1\" class=\"data row8 col1\" >mean</td>\n",
       "            </tr>\n",
       "            <tr>\n",
       "                        <th id=\"T_2c13cac8_e2af_11ea_960a_3497f69ae15blevel0_row9\" class=\"row_heading level0 row9\" >9</th>\n",
       "                        <td id=\"T_2c13cac8_e2af_11ea_960a_3497f69ae15brow9_col0\" class=\"data row9 col0\" >Categorical Imputer </td>\n",
       "                        <td id=\"T_2c13cac8_e2af_11ea_960a_3497f69ae15brow9_col1\" class=\"data row9 col1\" >constant</td>\n",
       "            </tr>\n",
       "            <tr>\n",
       "                        <th id=\"T_2c13cac8_e2af_11ea_960a_3497f69ae15blevel0_row10\" class=\"row_heading level0 row10\" >10</th>\n",
       "                        <td id=\"T_2c13cac8_e2af_11ea_960a_3497f69ae15brow10_col0\" class=\"data row10 col0\" >Normalize </td>\n",
       "                        <td id=\"T_2c13cac8_e2af_11ea_960a_3497f69ae15brow10_col1\" class=\"data row10 col1\" >False</td>\n",
       "            </tr>\n",
       "            <tr>\n",
       "                        <th id=\"T_2c13cac8_e2af_11ea_960a_3497f69ae15blevel0_row11\" class=\"row_heading level0 row11\" >11</th>\n",
       "                        <td id=\"T_2c13cac8_e2af_11ea_960a_3497f69ae15brow11_col0\" class=\"data row11 col0\" >Normalize Method </td>\n",
       "                        <td id=\"T_2c13cac8_e2af_11ea_960a_3497f69ae15brow11_col1\" class=\"data row11 col1\" >None</td>\n",
       "            </tr>\n",
       "            <tr>\n",
       "                        <th id=\"T_2c13cac8_e2af_11ea_960a_3497f69ae15blevel0_row12\" class=\"row_heading level0 row12\" >12</th>\n",
       "                        <td id=\"T_2c13cac8_e2af_11ea_960a_3497f69ae15brow12_col0\" class=\"data row12 col0\" >Transformation </td>\n",
       "                        <td id=\"T_2c13cac8_e2af_11ea_960a_3497f69ae15brow12_col1\" class=\"data row12 col1\" >False</td>\n",
       "            </tr>\n",
       "            <tr>\n",
       "                        <th id=\"T_2c13cac8_e2af_11ea_960a_3497f69ae15blevel0_row13\" class=\"row_heading level0 row13\" >13</th>\n",
       "                        <td id=\"T_2c13cac8_e2af_11ea_960a_3497f69ae15brow13_col0\" class=\"data row13 col0\" >Transformation Method </td>\n",
       "                        <td id=\"T_2c13cac8_e2af_11ea_960a_3497f69ae15brow13_col1\" class=\"data row13 col1\" >None</td>\n",
       "            </tr>\n",
       "            <tr>\n",
       "                        <th id=\"T_2c13cac8_e2af_11ea_960a_3497f69ae15blevel0_row14\" class=\"row_heading level0 row14\" >14</th>\n",
       "                        <td id=\"T_2c13cac8_e2af_11ea_960a_3497f69ae15brow14_col0\" class=\"data row14 col0\" >PCA </td>\n",
       "                        <td id=\"T_2c13cac8_e2af_11ea_960a_3497f69ae15brow14_col1\" class=\"data row14 col1\" >False</td>\n",
       "            </tr>\n",
       "            <tr>\n",
       "                        <th id=\"T_2c13cac8_e2af_11ea_960a_3497f69ae15blevel0_row15\" class=\"row_heading level0 row15\" >15</th>\n",
       "                        <td id=\"T_2c13cac8_e2af_11ea_960a_3497f69ae15brow15_col0\" class=\"data row15 col0\" >PCA Method </td>\n",
       "                        <td id=\"T_2c13cac8_e2af_11ea_960a_3497f69ae15brow15_col1\" class=\"data row15 col1\" >None</td>\n",
       "            </tr>\n",
       "            <tr>\n",
       "                        <th id=\"T_2c13cac8_e2af_11ea_960a_3497f69ae15blevel0_row16\" class=\"row_heading level0 row16\" >16</th>\n",
       "                        <td id=\"T_2c13cac8_e2af_11ea_960a_3497f69ae15brow16_col0\" class=\"data row16 col0\" >PCA components </td>\n",
       "                        <td id=\"T_2c13cac8_e2af_11ea_960a_3497f69ae15brow16_col1\" class=\"data row16 col1\" >None</td>\n",
       "            </tr>\n",
       "            <tr>\n",
       "                        <th id=\"T_2c13cac8_e2af_11ea_960a_3497f69ae15blevel0_row17\" class=\"row_heading level0 row17\" >17</th>\n",
       "                        <td id=\"T_2c13cac8_e2af_11ea_960a_3497f69ae15brow17_col0\" class=\"data row17 col0\" >Ignore Low Variance </td>\n",
       "                        <td id=\"T_2c13cac8_e2af_11ea_960a_3497f69ae15brow17_col1\" class=\"data row17 col1\" >False</td>\n",
       "            </tr>\n",
       "            <tr>\n",
       "                        <th id=\"T_2c13cac8_e2af_11ea_960a_3497f69ae15blevel0_row18\" class=\"row_heading level0 row18\" >18</th>\n",
       "                        <td id=\"T_2c13cac8_e2af_11ea_960a_3497f69ae15brow18_col0\" class=\"data row18 col0\" >Combine Rare Levels </td>\n",
       "                        <td id=\"T_2c13cac8_e2af_11ea_960a_3497f69ae15brow18_col1\" class=\"data row18 col1\" >False</td>\n",
       "            </tr>\n",
       "            <tr>\n",
       "                        <th id=\"T_2c13cac8_e2af_11ea_960a_3497f69ae15blevel0_row19\" class=\"row_heading level0 row19\" >19</th>\n",
       "                        <td id=\"T_2c13cac8_e2af_11ea_960a_3497f69ae15brow19_col0\" class=\"data row19 col0\" >Rare Level Threshold </td>\n",
       "                        <td id=\"T_2c13cac8_e2af_11ea_960a_3497f69ae15brow19_col1\" class=\"data row19 col1\" >None</td>\n",
       "            </tr>\n",
       "            <tr>\n",
       "                        <th id=\"T_2c13cac8_e2af_11ea_960a_3497f69ae15blevel0_row20\" class=\"row_heading level0 row20\" >20</th>\n",
       "                        <td id=\"T_2c13cac8_e2af_11ea_960a_3497f69ae15brow20_col0\" class=\"data row20 col0\" >Numeric Binning </td>\n",
       "                        <td id=\"T_2c13cac8_e2af_11ea_960a_3497f69ae15brow20_col1\" class=\"data row20 col1\" >False</td>\n",
       "            </tr>\n",
       "            <tr>\n",
       "                        <th id=\"T_2c13cac8_e2af_11ea_960a_3497f69ae15blevel0_row21\" class=\"row_heading level0 row21\" >21</th>\n",
       "                        <td id=\"T_2c13cac8_e2af_11ea_960a_3497f69ae15brow21_col0\" class=\"data row21 col0\" >Remove Multicollinearity </td>\n",
       "                        <td id=\"T_2c13cac8_e2af_11ea_960a_3497f69ae15brow21_col1\" class=\"data row21 col1\" >False</td>\n",
       "            </tr>\n",
       "            <tr>\n",
       "                        <th id=\"T_2c13cac8_e2af_11ea_960a_3497f69ae15blevel0_row22\" class=\"row_heading level0 row22\" >22</th>\n",
       "                        <td id=\"T_2c13cac8_e2af_11ea_960a_3497f69ae15brow22_col0\" class=\"data row22 col0\" >Multicollinearity Threshold </td>\n",
       "                        <td id=\"T_2c13cac8_e2af_11ea_960a_3497f69ae15brow22_col1\" class=\"data row22 col1\" >None</td>\n",
       "            </tr>\n",
       "            <tr>\n",
       "                        <th id=\"T_2c13cac8_e2af_11ea_960a_3497f69ae15blevel0_row23\" class=\"row_heading level0 row23\" >23</th>\n",
       "                        <td id=\"T_2c13cac8_e2af_11ea_960a_3497f69ae15brow23_col0\" class=\"data row23 col0\" >Group Features </td>\n",
       "                        <td id=\"T_2c13cac8_e2af_11ea_960a_3497f69ae15brow23_col1\" class=\"data row23 col1\" >False</td>\n",
       "            </tr>\n",
       "    </tbody></table>"
      ],
      "text/plain": [
       "<pandas.io.formats.style.Styler at 0x1f9d4ab1448>"
      ]
     },
     "metadata": {},
     "output_type": "display_data"
    }
   ],
   "source": [
    "from pycaret.anomaly import *\n",
    "exp_ano=setup(df)"
   ]
  },
  {
   "cell_type": "markdown",
   "metadata": {},
   "source": [
    "CREATING CLUSTERING MODEL"
   ]
  },
  {
   "cell_type": "code",
   "execution_count": 6,
   "metadata": {},
   "outputs": [
    {
     "name": "stdout",
     "output_type": "stream",
     "text": [
      "time:  87.52932095527649\n"
     ]
    }
   ],
   "source": [
    "import time\n",
    "\n",
    "start = time.time()\n",
    "\n",
    "cluster = create_model('cluster')\n",
    "cluster_df = assign_model(cluster)\n",
    "cluster_df\n",
    "\n",
    "print('time: ', time.time() - start)"
   ]
  },
  {
   "cell_type": "code",
   "execution_count": 7,
   "metadata": {},
   "outputs": [
    {
     "data": {
      "text/plain": [
       "CBLOF(alpha=0.9, beta=5, check_estimator=False, clustering_estimator=None,\n",
       "   contamination=0.05, n_clusters=8, n_jobs=1, random_state=8605,\n",
       "   use_weights=False)"
      ]
     },
     "execution_count": 7,
     "metadata": {},
     "output_type": "execute_result"
    }
   ],
   "source": [
    "cluster"
   ]
  },
  {
   "cell_type": "markdown",
   "metadata": {},
   "source": [
    "CONVERTING LABELS"
   ]
  },
  {
   "cell_type": "code",
   "execution_count": 8,
   "metadata": {},
   "outputs": [
    {
     "name": "stdout",
     "output_type": "stream",
     "text": [
      "162173\n"
     ]
    }
   ],
   "source": [
    "idf = cluster_df['Label']\n",
    "ll = []\n",
    "for i in idf:\n",
    "    if i == 0:\n",
    "        ll.append('normal')\n",
    "    else:\n",
    "        ll.append('abnormal')\n",
    "\n",
    "print(len(ll))"
   ]
  },
  {
   "cell_type": "markdown",
   "metadata": {},
   "source": [
    "ANOMALY COUNT "
   ]
  },
  {
   "cell_type": "code",
   "execution_count": 9,
   "metadata": {},
   "outputs": [
    {
     "name": "stdout",
     "output_type": "stream",
     "text": [
      "8108\n"
     ]
    }
   ],
   "source": [
    "c = 0\n",
    "for x in ll:\n",
    "    if x == 'abnormal':\n",
    "        c +=1\n",
    "\n",
    "print(c)"
   ]
  },
  {
   "cell_type": "code",
   "execution_count": 10,
   "metadata": {},
   "outputs": [],
   "source": [
    "ff = df1[df1['boxName']=='Bernem']\n",
    "ff = ff.set_index('Time_stamp')\n",
    "anml = ff[ff['label']=='abnormal']"
   ]
  },
  {
   "cell_type": "markdown",
   "metadata": {},
   "source": [
    "## EVALUATION\n",
    "\n",
    "CALCULATING ACCURACY, PRECISION, RECALL AND F1-SCORE"
   ]
  },
  {
   "cell_type": "code",
   "execution_count": 11,
   "metadata": {},
   "outputs": [
    {
     "name": "stdout",
     "output_type": "stream",
     "text": [
      "Accuracy: 0.925999\n",
      "Precision: 0.278983\n",
      "Recall: 0.303034\n",
      "F1 score: 0.290511\n"
     ]
    }
   ],
   "source": [
    "from sklearn.metrics import accuracy_score, precision_score, recall_score, f1_score\n",
    "\n",
    "obt_label = ll\n",
    "gold_label = ff['label']\n",
    "testy = obt_label\n",
    "yhat_classes = gold_label\n",
    "\n",
    "# accuracy: (tp + tn) / (p + n)\n",
    "accuracy = accuracy_score(testy, yhat_classes)\n",
    "print('Accuracy: %f' % accuracy)\n",
    "# precision tp / (tp + fp)\n",
    "precision = precision_score(testy, yhat_classes, pos_label = 'abnormal')\n",
    "print('Precision: %f' % precision)\n",
    "# recall: tp / (tp + fn)\n",
    "recall = recall_score(testy, yhat_classes, pos_label = 'abnormal')\n",
    "print('Recall: %f' % recall)\n",
    "# f1: 2 tp / (2 tp + fp + fn)\n",
    "f1 = f1_score(testy, yhat_classes, pos_label = 'abnormal')\n",
    "print('F1 score: %f' % f1)"
   ]
  }
 ],
 "metadata": {
  "kernelspec": {
   "display_name": "Python 3",
   "language": "python",
   "name": "python3"
  },
  "language_info": {
   "codemirror_mode": {
    "name": "ipython",
    "version": 3
   },
   "file_extension": ".py",
   "mimetype": "text/x-python",
   "name": "python",
   "nbconvert_exporter": "python",
   "pygments_lexer": "ipython3",
   "version": "3.7.6"
  }
 },
 "nbformat": 4,
 "nbformat_minor": 4
}
